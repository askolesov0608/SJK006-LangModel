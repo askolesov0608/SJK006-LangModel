{
  "nbformat": 4,
  "nbformat_minor": 0,
  "metadata": {
    "colab": {
      "provenance": [],
      "gpuType": "A100"
    },
    "kernelspec": {
      "name": "python3",
      "display_name": "Python 3"
    },
    "language_info": {
      "name": "python"
    },
    "accelerator": "GPU",
    "widgets": {
      "application/vnd.jupyter.widget-state+json": {
        "1b4ae48d75814cb4bb694e48fba03c1a": {
          "model_module": "@jupyter-widgets/controls",
          "model_name": "HBoxModel",
          "model_module_version": "1.5.0",
          "state": {
            "_dom_classes": [],
            "_model_module": "@jupyter-widgets/controls",
            "_model_module_version": "1.5.0",
            "_model_name": "HBoxModel",
            "_view_count": null,
            "_view_module": "@jupyter-widgets/controls",
            "_view_module_version": "1.5.0",
            "_view_name": "HBoxView",
            "box_style": "",
            "children": [
              "IPY_MODEL_c19bf861ab7e4f41a2ecf1ccf5a9f891",
              "IPY_MODEL_466007e0ceed432fa849a45a003f2a90",
              "IPY_MODEL_79c6ca24a39b4605b1c89943a618b23d"
            ],
            "layout": "IPY_MODEL_c6987fe51fa2448f8a4b9af4f7efd110"
          }
        },
        "c19bf861ab7e4f41a2ecf1ccf5a9f891": {
          "model_module": "@jupyter-widgets/controls",
          "model_name": "HTMLModel",
          "model_module_version": "1.5.0",
          "state": {
            "_dom_classes": [],
            "_model_module": "@jupyter-widgets/controls",
            "_model_module_version": "1.5.0",
            "_model_name": "HTMLModel",
            "_view_count": null,
            "_view_module": "@jupyter-widgets/controls",
            "_view_module_version": "1.5.0",
            "_view_name": "HTMLView",
            "description": "",
            "description_tooltip": null,
            "layout": "IPY_MODEL_d795ba88e5834a3ebf82dc95b6ba2aa5",
            "placeholder": "​",
            "style": "IPY_MODEL_36796aa4282e40548523284f526ff748",
            "value": "config.json: 100%"
          }
        },
        "466007e0ceed432fa849a45a003f2a90": {
          "model_module": "@jupyter-widgets/controls",
          "model_name": "FloatProgressModel",
          "model_module_version": "1.5.0",
          "state": {
            "_dom_classes": [],
            "_model_module": "@jupyter-widgets/controls",
            "_model_module_version": "1.5.0",
            "_model_name": "FloatProgressModel",
            "_view_count": null,
            "_view_module": "@jupyter-widgets/controls",
            "_view_module_version": "1.5.0",
            "_view_name": "ProgressView",
            "bar_style": "success",
            "description": "",
            "description_tooltip": null,
            "layout": "IPY_MODEL_593a041c20a64ae48fc48602469bf55a",
            "max": 615,
            "min": 0,
            "orientation": "horizontal",
            "style": "IPY_MODEL_4d2ac8174ea94b65a7663ae38f2048fd",
            "value": 615
          }
        },
        "79c6ca24a39b4605b1c89943a618b23d": {
          "model_module": "@jupyter-widgets/controls",
          "model_name": "HTMLModel",
          "model_module_version": "1.5.0",
          "state": {
            "_dom_classes": [],
            "_model_module": "@jupyter-widgets/controls",
            "_model_module_version": "1.5.0",
            "_model_name": "HTMLModel",
            "_view_count": null,
            "_view_module": "@jupyter-widgets/controls",
            "_view_module_version": "1.5.0",
            "_view_name": "HTMLView",
            "description": "",
            "description_tooltip": null,
            "layout": "IPY_MODEL_b55cf03195b645779523680df3164792",
            "placeholder": "​",
            "style": "IPY_MODEL_ed11ab94d5e14d7b836ea8ec0b205220",
            "value": " 615/615 [00:00&lt;00:00, 53.0kB/s]"
          }
        },
        "c6987fe51fa2448f8a4b9af4f7efd110": {
          "model_module": "@jupyter-widgets/base",
          "model_name": "LayoutModel",
          "model_module_version": "1.2.0",
          "state": {
            "_model_module": "@jupyter-widgets/base",
            "_model_module_version": "1.2.0",
            "_model_name": "LayoutModel",
            "_view_count": null,
            "_view_module": "@jupyter-widgets/base",
            "_view_module_version": "1.2.0",
            "_view_name": "LayoutView",
            "align_content": null,
            "align_items": null,
            "align_self": null,
            "border": null,
            "bottom": null,
            "display": null,
            "flex": null,
            "flex_flow": null,
            "grid_area": null,
            "grid_auto_columns": null,
            "grid_auto_flow": null,
            "grid_auto_rows": null,
            "grid_column": null,
            "grid_gap": null,
            "grid_row": null,
            "grid_template_areas": null,
            "grid_template_columns": null,
            "grid_template_rows": null,
            "height": null,
            "justify_content": null,
            "justify_items": null,
            "left": null,
            "margin": null,
            "max_height": null,
            "max_width": null,
            "min_height": null,
            "min_width": null,
            "object_fit": null,
            "object_position": null,
            "order": null,
            "overflow": null,
            "overflow_x": null,
            "overflow_y": null,
            "padding": null,
            "right": null,
            "top": null,
            "visibility": null,
            "width": null
          }
        },
        "d795ba88e5834a3ebf82dc95b6ba2aa5": {
          "model_module": "@jupyter-widgets/base",
          "model_name": "LayoutModel",
          "model_module_version": "1.2.0",
          "state": {
            "_model_module": "@jupyter-widgets/base",
            "_model_module_version": "1.2.0",
            "_model_name": "LayoutModel",
            "_view_count": null,
            "_view_module": "@jupyter-widgets/base",
            "_view_module_version": "1.2.0",
            "_view_name": "LayoutView",
            "align_content": null,
            "align_items": null,
            "align_self": null,
            "border": null,
            "bottom": null,
            "display": null,
            "flex": null,
            "flex_flow": null,
            "grid_area": null,
            "grid_auto_columns": null,
            "grid_auto_flow": null,
            "grid_auto_rows": null,
            "grid_column": null,
            "grid_gap": null,
            "grid_row": null,
            "grid_template_areas": null,
            "grid_template_columns": null,
            "grid_template_rows": null,
            "height": null,
            "justify_content": null,
            "justify_items": null,
            "left": null,
            "margin": null,
            "max_height": null,
            "max_width": null,
            "min_height": null,
            "min_width": null,
            "object_fit": null,
            "object_position": null,
            "order": null,
            "overflow": null,
            "overflow_x": null,
            "overflow_y": null,
            "padding": null,
            "right": null,
            "top": null,
            "visibility": null,
            "width": null
          }
        },
        "36796aa4282e40548523284f526ff748": {
          "model_module": "@jupyter-widgets/controls",
          "model_name": "DescriptionStyleModel",
          "model_module_version": "1.5.0",
          "state": {
            "_model_module": "@jupyter-widgets/controls",
            "_model_module_version": "1.5.0",
            "_model_name": "DescriptionStyleModel",
            "_view_count": null,
            "_view_module": "@jupyter-widgets/base",
            "_view_module_version": "1.2.0",
            "_view_name": "StyleView",
            "description_width": ""
          }
        },
        "593a041c20a64ae48fc48602469bf55a": {
          "model_module": "@jupyter-widgets/base",
          "model_name": "LayoutModel",
          "model_module_version": "1.2.0",
          "state": {
            "_model_module": "@jupyter-widgets/base",
            "_model_module_version": "1.2.0",
            "_model_name": "LayoutModel",
            "_view_count": null,
            "_view_module": "@jupyter-widgets/base",
            "_view_module_version": "1.2.0",
            "_view_name": "LayoutView",
            "align_content": null,
            "align_items": null,
            "align_self": null,
            "border": null,
            "bottom": null,
            "display": null,
            "flex": null,
            "flex_flow": null,
            "grid_area": null,
            "grid_auto_columns": null,
            "grid_auto_flow": null,
            "grid_auto_rows": null,
            "grid_column": null,
            "grid_gap": null,
            "grid_row": null,
            "grid_template_areas": null,
            "grid_template_columns": null,
            "grid_template_rows": null,
            "height": null,
            "justify_content": null,
            "justify_items": null,
            "left": null,
            "margin": null,
            "max_height": null,
            "max_width": null,
            "min_height": null,
            "min_width": null,
            "object_fit": null,
            "object_position": null,
            "order": null,
            "overflow": null,
            "overflow_x": null,
            "overflow_y": null,
            "padding": null,
            "right": null,
            "top": null,
            "visibility": null,
            "width": null
          }
        },
        "4d2ac8174ea94b65a7663ae38f2048fd": {
          "model_module": "@jupyter-widgets/controls",
          "model_name": "ProgressStyleModel",
          "model_module_version": "1.5.0",
          "state": {
            "_model_module": "@jupyter-widgets/controls",
            "_model_module_version": "1.5.0",
            "_model_name": "ProgressStyleModel",
            "_view_count": null,
            "_view_module": "@jupyter-widgets/base",
            "_view_module_version": "1.2.0",
            "_view_name": "StyleView",
            "bar_color": null,
            "description_width": ""
          }
        },
        "b55cf03195b645779523680df3164792": {
          "model_module": "@jupyter-widgets/base",
          "model_name": "LayoutModel",
          "model_module_version": "1.2.0",
          "state": {
            "_model_module": "@jupyter-widgets/base",
            "_model_module_version": "1.2.0",
            "_model_name": "LayoutModel",
            "_view_count": null,
            "_view_module": "@jupyter-widgets/base",
            "_view_module_version": "1.2.0",
            "_view_name": "LayoutView",
            "align_content": null,
            "align_items": null,
            "align_self": null,
            "border": null,
            "bottom": null,
            "display": null,
            "flex": null,
            "flex_flow": null,
            "grid_area": null,
            "grid_auto_columns": null,
            "grid_auto_flow": null,
            "grid_auto_rows": null,
            "grid_column": null,
            "grid_gap": null,
            "grid_row": null,
            "grid_template_areas": null,
            "grid_template_columns": null,
            "grid_template_rows": null,
            "height": null,
            "justify_content": null,
            "justify_items": null,
            "left": null,
            "margin": null,
            "max_height": null,
            "max_width": null,
            "min_height": null,
            "min_width": null,
            "object_fit": null,
            "object_position": null,
            "order": null,
            "overflow": null,
            "overflow_x": null,
            "overflow_y": null,
            "padding": null,
            "right": null,
            "top": null,
            "visibility": null,
            "width": null
          }
        },
        "ed11ab94d5e14d7b836ea8ec0b205220": {
          "model_module": "@jupyter-widgets/controls",
          "model_name": "DescriptionStyleModel",
          "model_module_version": "1.5.0",
          "state": {
            "_model_module": "@jupyter-widgets/controls",
            "_model_module_version": "1.5.0",
            "_model_name": "DescriptionStyleModel",
            "_view_count": null,
            "_view_module": "@jupyter-widgets/base",
            "_view_module_version": "1.2.0",
            "_view_name": "StyleView",
            "description_width": ""
          }
        },
        "2d121003800341f3a3f2a8213ad82bbc": {
          "model_module": "@jupyter-widgets/controls",
          "model_name": "HBoxModel",
          "model_module_version": "1.5.0",
          "state": {
            "_dom_classes": [],
            "_model_module": "@jupyter-widgets/controls",
            "_model_module_version": "1.5.0",
            "_model_name": "HBoxModel",
            "_view_count": null,
            "_view_module": "@jupyter-widgets/controls",
            "_view_module_version": "1.5.0",
            "_view_name": "HBoxView",
            "box_style": "",
            "children": [
              "IPY_MODEL_11c00a8a0ce64f18b5b5c0f24e4c1929",
              "IPY_MODEL_39421b7007cb41539e05d4a84324b608",
              "IPY_MODEL_644e3e5916f546b4823026dccdf2a434"
            ],
            "layout": "IPY_MODEL_213610b5a20e4424b04fea4d873c3699"
          }
        },
        "11c00a8a0ce64f18b5b5c0f24e4c1929": {
          "model_module": "@jupyter-widgets/controls",
          "model_name": "HTMLModel",
          "model_module_version": "1.5.0",
          "state": {
            "_dom_classes": [],
            "_model_module": "@jupyter-widgets/controls",
            "_model_module_version": "1.5.0",
            "_model_name": "HTMLModel",
            "_view_count": null,
            "_view_module": "@jupyter-widgets/controls",
            "_view_module_version": "1.5.0",
            "_view_name": "HTMLView",
            "description": "",
            "description_tooltip": null,
            "layout": "IPY_MODEL_77eaae82496e45218ff8cdd2583fc501",
            "placeholder": "​",
            "style": "IPY_MODEL_445a6c709bc34bdbb3aeeba296cff732",
            "value": "sentencepiece.bpe.model: 100%"
          }
        },
        "39421b7007cb41539e05d4a84324b608": {
          "model_module": "@jupyter-widgets/controls",
          "model_name": "FloatProgressModel",
          "model_module_version": "1.5.0",
          "state": {
            "_dom_classes": [],
            "_model_module": "@jupyter-widgets/controls",
            "_model_module_version": "1.5.0",
            "_model_name": "FloatProgressModel",
            "_view_count": null,
            "_view_module": "@jupyter-widgets/controls",
            "_view_module_version": "1.5.0",
            "_view_name": "ProgressView",
            "bar_style": "success",
            "description": "",
            "description_tooltip": null,
            "layout": "IPY_MODEL_497faa78aa144fc9bbda0a45dbd8f69c",
            "max": 5069051,
            "min": 0,
            "orientation": "horizontal",
            "style": "IPY_MODEL_205b79d363454d6b8fefdfb7fedbc99b",
            "value": 5069051
          }
        },
        "644e3e5916f546b4823026dccdf2a434": {
          "model_module": "@jupyter-widgets/controls",
          "model_name": "HTMLModel",
          "model_module_version": "1.5.0",
          "state": {
            "_dom_classes": [],
            "_model_module": "@jupyter-widgets/controls",
            "_model_module_version": "1.5.0",
            "_model_name": "HTMLModel",
            "_view_count": null,
            "_view_module": "@jupyter-widgets/controls",
            "_view_module_version": "1.5.0",
            "_view_name": "HTMLView",
            "description": "",
            "description_tooltip": null,
            "layout": "IPY_MODEL_e874eb11a7f24f91b29cc9fec88d771b",
            "placeholder": "​",
            "style": "IPY_MODEL_9e4284f0b0d6461fab3f90b3b15def9f",
            "value": " 5.07M/5.07M [00:00&lt;00:00, 26.2MB/s]"
          }
        },
        "213610b5a20e4424b04fea4d873c3699": {
          "model_module": "@jupyter-widgets/base",
          "model_name": "LayoutModel",
          "model_module_version": "1.2.0",
          "state": {
            "_model_module": "@jupyter-widgets/base",
            "_model_module_version": "1.2.0",
            "_model_name": "LayoutModel",
            "_view_count": null,
            "_view_module": "@jupyter-widgets/base",
            "_view_module_version": "1.2.0",
            "_view_name": "LayoutView",
            "align_content": null,
            "align_items": null,
            "align_self": null,
            "border": null,
            "bottom": null,
            "display": null,
            "flex": null,
            "flex_flow": null,
            "grid_area": null,
            "grid_auto_columns": null,
            "grid_auto_flow": null,
            "grid_auto_rows": null,
            "grid_column": null,
            "grid_gap": null,
            "grid_row": null,
            "grid_template_areas": null,
            "grid_template_columns": null,
            "grid_template_rows": null,
            "height": null,
            "justify_content": null,
            "justify_items": null,
            "left": null,
            "margin": null,
            "max_height": null,
            "max_width": null,
            "min_height": null,
            "min_width": null,
            "object_fit": null,
            "object_position": null,
            "order": null,
            "overflow": null,
            "overflow_x": null,
            "overflow_y": null,
            "padding": null,
            "right": null,
            "top": null,
            "visibility": null,
            "width": null
          }
        },
        "77eaae82496e45218ff8cdd2583fc501": {
          "model_module": "@jupyter-widgets/base",
          "model_name": "LayoutModel",
          "model_module_version": "1.2.0",
          "state": {
            "_model_module": "@jupyter-widgets/base",
            "_model_module_version": "1.2.0",
            "_model_name": "LayoutModel",
            "_view_count": null,
            "_view_module": "@jupyter-widgets/base",
            "_view_module_version": "1.2.0",
            "_view_name": "LayoutView",
            "align_content": null,
            "align_items": null,
            "align_self": null,
            "border": null,
            "bottom": null,
            "display": null,
            "flex": null,
            "flex_flow": null,
            "grid_area": null,
            "grid_auto_columns": null,
            "grid_auto_flow": null,
            "grid_auto_rows": null,
            "grid_column": null,
            "grid_gap": null,
            "grid_row": null,
            "grid_template_areas": null,
            "grid_template_columns": null,
            "grid_template_rows": null,
            "height": null,
            "justify_content": null,
            "justify_items": null,
            "left": null,
            "margin": null,
            "max_height": null,
            "max_width": null,
            "min_height": null,
            "min_width": null,
            "object_fit": null,
            "object_position": null,
            "order": null,
            "overflow": null,
            "overflow_x": null,
            "overflow_y": null,
            "padding": null,
            "right": null,
            "top": null,
            "visibility": null,
            "width": null
          }
        },
        "445a6c709bc34bdbb3aeeba296cff732": {
          "model_module": "@jupyter-widgets/controls",
          "model_name": "DescriptionStyleModel",
          "model_module_version": "1.5.0",
          "state": {
            "_model_module": "@jupyter-widgets/controls",
            "_model_module_version": "1.5.0",
            "_model_name": "DescriptionStyleModel",
            "_view_count": null,
            "_view_module": "@jupyter-widgets/base",
            "_view_module_version": "1.2.0",
            "_view_name": "StyleView",
            "description_width": ""
          }
        },
        "497faa78aa144fc9bbda0a45dbd8f69c": {
          "model_module": "@jupyter-widgets/base",
          "model_name": "LayoutModel",
          "model_module_version": "1.2.0",
          "state": {
            "_model_module": "@jupyter-widgets/base",
            "_model_module_version": "1.2.0",
            "_model_name": "LayoutModel",
            "_view_count": null,
            "_view_module": "@jupyter-widgets/base",
            "_view_module_version": "1.2.0",
            "_view_name": "LayoutView",
            "align_content": null,
            "align_items": null,
            "align_self": null,
            "border": null,
            "bottom": null,
            "display": null,
            "flex": null,
            "flex_flow": null,
            "grid_area": null,
            "grid_auto_columns": null,
            "grid_auto_flow": null,
            "grid_auto_rows": null,
            "grid_column": null,
            "grid_gap": null,
            "grid_row": null,
            "grid_template_areas": null,
            "grid_template_columns": null,
            "grid_template_rows": null,
            "height": null,
            "justify_content": null,
            "justify_items": null,
            "left": null,
            "margin": null,
            "max_height": null,
            "max_width": null,
            "min_height": null,
            "min_width": null,
            "object_fit": null,
            "object_position": null,
            "order": null,
            "overflow": null,
            "overflow_x": null,
            "overflow_y": null,
            "padding": null,
            "right": null,
            "top": null,
            "visibility": null,
            "width": null
          }
        },
        "205b79d363454d6b8fefdfb7fedbc99b": {
          "model_module": "@jupyter-widgets/controls",
          "model_name": "ProgressStyleModel",
          "model_module_version": "1.5.0",
          "state": {
            "_model_module": "@jupyter-widgets/controls",
            "_model_module_version": "1.5.0",
            "_model_name": "ProgressStyleModel",
            "_view_count": null,
            "_view_module": "@jupyter-widgets/base",
            "_view_module_version": "1.2.0",
            "_view_name": "StyleView",
            "bar_color": null,
            "description_width": ""
          }
        },
        "e874eb11a7f24f91b29cc9fec88d771b": {
          "model_module": "@jupyter-widgets/base",
          "model_name": "LayoutModel",
          "model_module_version": "1.2.0",
          "state": {
            "_model_module": "@jupyter-widgets/base",
            "_model_module_version": "1.2.0",
            "_model_name": "LayoutModel",
            "_view_count": null,
            "_view_module": "@jupyter-widgets/base",
            "_view_module_version": "1.2.0",
            "_view_name": "LayoutView",
            "align_content": null,
            "align_items": null,
            "align_self": null,
            "border": null,
            "bottom": null,
            "display": null,
            "flex": null,
            "flex_flow": null,
            "grid_area": null,
            "grid_auto_columns": null,
            "grid_auto_flow": null,
            "grid_auto_rows": null,
            "grid_column": null,
            "grid_gap": null,
            "grid_row": null,
            "grid_template_areas": null,
            "grid_template_columns": null,
            "grid_template_rows": null,
            "height": null,
            "justify_content": null,
            "justify_items": null,
            "left": null,
            "margin": null,
            "max_height": null,
            "max_width": null,
            "min_height": null,
            "min_width": null,
            "object_fit": null,
            "object_position": null,
            "order": null,
            "overflow": null,
            "overflow_x": null,
            "overflow_y": null,
            "padding": null,
            "right": null,
            "top": null,
            "visibility": null,
            "width": null
          }
        },
        "9e4284f0b0d6461fab3f90b3b15def9f": {
          "model_module": "@jupyter-widgets/controls",
          "model_name": "DescriptionStyleModel",
          "model_module_version": "1.5.0",
          "state": {
            "_model_module": "@jupyter-widgets/controls",
            "_model_module_version": "1.5.0",
            "_model_name": "DescriptionStyleModel",
            "_view_count": null,
            "_view_module": "@jupyter-widgets/base",
            "_view_module_version": "1.2.0",
            "_view_name": "StyleView",
            "description_width": ""
          }
        },
        "bd385ff572d14f9485d682b3ad721c0b": {
          "model_module": "@jupyter-widgets/controls",
          "model_name": "HBoxModel",
          "model_module_version": "1.5.0",
          "state": {
            "_dom_classes": [],
            "_model_module": "@jupyter-widgets/controls",
            "_model_module_version": "1.5.0",
            "_model_name": "HBoxModel",
            "_view_count": null,
            "_view_module": "@jupyter-widgets/controls",
            "_view_module_version": "1.5.0",
            "_view_name": "HBoxView",
            "box_style": "",
            "children": [
              "IPY_MODEL_88ed694b24f74a7681af43ce3d862593",
              "IPY_MODEL_c074c0d6f782424dbc47f63fe27751c4",
              "IPY_MODEL_143e6fc2c28e4e6fb3e00b5c18f9ef03"
            ],
            "layout": "IPY_MODEL_6cf71eca7e854bb3ad09b83e9b0f1f45"
          }
        },
        "88ed694b24f74a7681af43ce3d862593": {
          "model_module": "@jupyter-widgets/controls",
          "model_name": "HTMLModel",
          "model_module_version": "1.5.0",
          "state": {
            "_dom_classes": [],
            "_model_module": "@jupyter-widgets/controls",
            "_model_module_version": "1.5.0",
            "_model_name": "HTMLModel",
            "_view_count": null,
            "_view_module": "@jupyter-widgets/controls",
            "_view_module_version": "1.5.0",
            "_view_name": "HTMLView",
            "description": "",
            "description_tooltip": null,
            "layout": "IPY_MODEL_a6972f53fe054ee4a8fb3a2e48d99adc",
            "placeholder": "​",
            "style": "IPY_MODEL_4c60da3bb6244fcba14c6ac562bc601b",
            "value": "tokenizer.json: 100%"
          }
        },
        "c074c0d6f782424dbc47f63fe27751c4": {
          "model_module": "@jupyter-widgets/controls",
          "model_name": "FloatProgressModel",
          "model_module_version": "1.5.0",
          "state": {
            "_dom_classes": [],
            "_model_module": "@jupyter-widgets/controls",
            "_model_module_version": "1.5.0",
            "_model_name": "FloatProgressModel",
            "_view_count": null,
            "_view_module": "@jupyter-widgets/controls",
            "_view_module_version": "1.5.0",
            "_view_name": "ProgressView",
            "bar_style": "success",
            "description": "",
            "description_tooltip": null,
            "layout": "IPY_MODEL_7ad8105c11d84322b171a419ddec1c53",
            "max": 9096718,
            "min": 0,
            "orientation": "horizontal",
            "style": "IPY_MODEL_fcacdb3f84c94a0a82ead214566f7a2c",
            "value": 9096718
          }
        },
        "143e6fc2c28e4e6fb3e00b5c18f9ef03": {
          "model_module": "@jupyter-widgets/controls",
          "model_name": "HTMLModel",
          "model_module_version": "1.5.0",
          "state": {
            "_dom_classes": [],
            "_model_module": "@jupyter-widgets/controls",
            "_model_module_version": "1.5.0",
            "_model_name": "HTMLModel",
            "_view_count": null,
            "_view_module": "@jupyter-widgets/controls",
            "_view_module_version": "1.5.0",
            "_view_name": "HTMLView",
            "description": "",
            "description_tooltip": null,
            "layout": "IPY_MODEL_fee0953fa40d4fe1994bffa880f25c43",
            "placeholder": "​",
            "style": "IPY_MODEL_5de820a4951c42098cedd1b7ced9ef92",
            "value": " 9.10M/9.10M [00:00&lt;00:00, 28.1MB/s]"
          }
        },
        "6cf71eca7e854bb3ad09b83e9b0f1f45": {
          "model_module": "@jupyter-widgets/base",
          "model_name": "LayoutModel",
          "model_module_version": "1.2.0",
          "state": {
            "_model_module": "@jupyter-widgets/base",
            "_model_module_version": "1.2.0",
            "_model_name": "LayoutModel",
            "_view_count": null,
            "_view_module": "@jupyter-widgets/base",
            "_view_module_version": "1.2.0",
            "_view_name": "LayoutView",
            "align_content": null,
            "align_items": null,
            "align_self": null,
            "border": null,
            "bottom": null,
            "display": null,
            "flex": null,
            "flex_flow": null,
            "grid_area": null,
            "grid_auto_columns": null,
            "grid_auto_flow": null,
            "grid_auto_rows": null,
            "grid_column": null,
            "grid_gap": null,
            "grid_row": null,
            "grid_template_areas": null,
            "grid_template_columns": null,
            "grid_template_rows": null,
            "height": null,
            "justify_content": null,
            "justify_items": null,
            "left": null,
            "margin": null,
            "max_height": null,
            "max_width": null,
            "min_height": null,
            "min_width": null,
            "object_fit": null,
            "object_position": null,
            "order": null,
            "overflow": null,
            "overflow_x": null,
            "overflow_y": null,
            "padding": null,
            "right": null,
            "top": null,
            "visibility": null,
            "width": null
          }
        },
        "a6972f53fe054ee4a8fb3a2e48d99adc": {
          "model_module": "@jupyter-widgets/base",
          "model_name": "LayoutModel",
          "model_module_version": "1.2.0",
          "state": {
            "_model_module": "@jupyter-widgets/base",
            "_model_module_version": "1.2.0",
            "_model_name": "LayoutModel",
            "_view_count": null,
            "_view_module": "@jupyter-widgets/base",
            "_view_module_version": "1.2.0",
            "_view_name": "LayoutView",
            "align_content": null,
            "align_items": null,
            "align_self": null,
            "border": null,
            "bottom": null,
            "display": null,
            "flex": null,
            "flex_flow": null,
            "grid_area": null,
            "grid_auto_columns": null,
            "grid_auto_flow": null,
            "grid_auto_rows": null,
            "grid_column": null,
            "grid_gap": null,
            "grid_row": null,
            "grid_template_areas": null,
            "grid_template_columns": null,
            "grid_template_rows": null,
            "height": null,
            "justify_content": null,
            "justify_items": null,
            "left": null,
            "margin": null,
            "max_height": null,
            "max_width": null,
            "min_height": null,
            "min_width": null,
            "object_fit": null,
            "object_position": null,
            "order": null,
            "overflow": null,
            "overflow_x": null,
            "overflow_y": null,
            "padding": null,
            "right": null,
            "top": null,
            "visibility": null,
            "width": null
          }
        },
        "4c60da3bb6244fcba14c6ac562bc601b": {
          "model_module": "@jupyter-widgets/controls",
          "model_name": "DescriptionStyleModel",
          "model_module_version": "1.5.0",
          "state": {
            "_model_module": "@jupyter-widgets/controls",
            "_model_module_version": "1.5.0",
            "_model_name": "DescriptionStyleModel",
            "_view_count": null,
            "_view_module": "@jupyter-widgets/base",
            "_view_module_version": "1.2.0",
            "_view_name": "StyleView",
            "description_width": ""
          }
        },
        "7ad8105c11d84322b171a419ddec1c53": {
          "model_module": "@jupyter-widgets/base",
          "model_name": "LayoutModel",
          "model_module_version": "1.2.0",
          "state": {
            "_model_module": "@jupyter-widgets/base",
            "_model_module_version": "1.2.0",
            "_model_name": "LayoutModel",
            "_view_count": null,
            "_view_module": "@jupyter-widgets/base",
            "_view_module_version": "1.2.0",
            "_view_name": "LayoutView",
            "align_content": null,
            "align_items": null,
            "align_self": null,
            "border": null,
            "bottom": null,
            "display": null,
            "flex": null,
            "flex_flow": null,
            "grid_area": null,
            "grid_auto_columns": null,
            "grid_auto_flow": null,
            "grid_auto_rows": null,
            "grid_column": null,
            "grid_gap": null,
            "grid_row": null,
            "grid_template_areas": null,
            "grid_template_columns": null,
            "grid_template_rows": null,
            "height": null,
            "justify_content": null,
            "justify_items": null,
            "left": null,
            "margin": null,
            "max_height": null,
            "max_width": null,
            "min_height": null,
            "min_width": null,
            "object_fit": null,
            "object_position": null,
            "order": null,
            "overflow": null,
            "overflow_x": null,
            "overflow_y": null,
            "padding": null,
            "right": null,
            "top": null,
            "visibility": null,
            "width": null
          }
        },
        "fcacdb3f84c94a0a82ead214566f7a2c": {
          "model_module": "@jupyter-widgets/controls",
          "model_name": "ProgressStyleModel",
          "model_module_version": "1.5.0",
          "state": {
            "_model_module": "@jupyter-widgets/controls",
            "_model_module_version": "1.5.0",
            "_model_name": "ProgressStyleModel",
            "_view_count": null,
            "_view_module": "@jupyter-widgets/base",
            "_view_module_version": "1.2.0",
            "_view_name": "StyleView",
            "bar_color": null,
            "description_width": ""
          }
        },
        "fee0953fa40d4fe1994bffa880f25c43": {
          "model_module": "@jupyter-widgets/base",
          "model_name": "LayoutModel",
          "model_module_version": "1.2.0",
          "state": {
            "_model_module": "@jupyter-widgets/base",
            "_model_module_version": "1.2.0",
            "_model_name": "LayoutModel",
            "_view_count": null,
            "_view_module": "@jupyter-widgets/base",
            "_view_module_version": "1.2.0",
            "_view_name": "LayoutView",
            "align_content": null,
            "align_items": null,
            "align_self": null,
            "border": null,
            "bottom": null,
            "display": null,
            "flex": null,
            "flex_flow": null,
            "grid_area": null,
            "grid_auto_columns": null,
            "grid_auto_flow": null,
            "grid_auto_rows": null,
            "grid_column": null,
            "grid_gap": null,
            "grid_row": null,
            "grid_template_areas": null,
            "grid_template_columns": null,
            "grid_template_rows": null,
            "height": null,
            "justify_content": null,
            "justify_items": null,
            "left": null,
            "margin": null,
            "max_height": null,
            "max_width": null,
            "min_height": null,
            "min_width": null,
            "object_fit": null,
            "object_position": null,
            "order": null,
            "overflow": null,
            "overflow_x": null,
            "overflow_y": null,
            "padding": null,
            "right": null,
            "top": null,
            "visibility": null,
            "width": null
          }
        },
        "5de820a4951c42098cedd1b7ced9ef92": {
          "model_module": "@jupyter-widgets/controls",
          "model_name": "DescriptionStyleModel",
          "model_module_version": "1.5.0",
          "state": {
            "_model_module": "@jupyter-widgets/controls",
            "_model_module_version": "1.5.0",
            "_model_name": "DescriptionStyleModel",
            "_view_count": null,
            "_view_module": "@jupyter-widgets/base",
            "_view_module_version": "1.2.0",
            "_view_name": "StyleView",
            "description_width": ""
          }
        },
        "555b71ece51e45d1b33e9062104a393e": {
          "model_module": "@jupyter-widgets/controls",
          "model_name": "HBoxModel",
          "model_module_version": "1.5.0",
          "state": {
            "_dom_classes": [],
            "_model_module": "@jupyter-widgets/controls",
            "_model_module_version": "1.5.0",
            "_model_name": "HBoxModel",
            "_view_count": null,
            "_view_module": "@jupyter-widgets/controls",
            "_view_module_version": "1.5.0",
            "_view_name": "HBoxView",
            "box_style": "",
            "children": [
              "IPY_MODEL_29b3b7900d7644b5b1656f6f18b5d655",
              "IPY_MODEL_8ace096bc0f34d2a83211bbe419a95f3",
              "IPY_MODEL_268f1feb363d450587c846524e5c33e1"
            ],
            "layout": "IPY_MODEL_7e6e6226df844f8595f4ccf6219f5e13"
          }
        },
        "29b3b7900d7644b5b1656f6f18b5d655": {
          "model_module": "@jupyter-widgets/controls",
          "model_name": "HTMLModel",
          "model_module_version": "1.5.0",
          "state": {
            "_dom_classes": [],
            "_model_module": "@jupyter-widgets/controls",
            "_model_module_version": "1.5.0",
            "_model_name": "HTMLModel",
            "_view_count": null,
            "_view_module": "@jupyter-widgets/controls",
            "_view_module_version": "1.5.0",
            "_view_name": "HTMLView",
            "description": "",
            "description_tooltip": null,
            "layout": "IPY_MODEL_e991c26eaa884caf82f475142ae105bf",
            "placeholder": "​",
            "style": "IPY_MODEL_cddd546062ed41c1b534b77ae47cee70",
            "value": "model.safetensors: 100%"
          }
        },
        "8ace096bc0f34d2a83211bbe419a95f3": {
          "model_module": "@jupyter-widgets/controls",
          "model_name": "FloatProgressModel",
          "model_module_version": "1.5.0",
          "state": {
            "_dom_classes": [],
            "_model_module": "@jupyter-widgets/controls",
            "_model_module_version": "1.5.0",
            "_model_name": "FloatProgressModel",
            "_view_count": null,
            "_view_module": "@jupyter-widgets/controls",
            "_view_module_version": "1.5.0",
            "_view_name": "ProgressView",
            "bar_style": "success",
            "description": "",
            "description_tooltip": null,
            "layout": "IPY_MODEL_9f231bde39bd4ac6974f86386e5fe6a4",
            "max": 1115567652,
            "min": 0,
            "orientation": "horizontal",
            "style": "IPY_MODEL_94914cc35e1040aab9df0b3b9a6f8cb1",
            "value": 1115567652
          }
        },
        "268f1feb363d450587c846524e5c33e1": {
          "model_module": "@jupyter-widgets/controls",
          "model_name": "HTMLModel",
          "model_module_version": "1.5.0",
          "state": {
            "_dom_classes": [],
            "_model_module": "@jupyter-widgets/controls",
            "_model_module_version": "1.5.0",
            "_model_name": "HTMLModel",
            "_view_count": null,
            "_view_module": "@jupyter-widgets/controls",
            "_view_module_version": "1.5.0",
            "_view_name": "HTMLView",
            "description": "",
            "description_tooltip": null,
            "layout": "IPY_MODEL_514107435b7a481196159f6d434ace84",
            "placeholder": "​",
            "style": "IPY_MODEL_d8900943faa04657b9cbd4ea9ca87869",
            "value": " 1.12G/1.12G [00:05&lt;00:00, 210MB/s]"
          }
        },
        "7e6e6226df844f8595f4ccf6219f5e13": {
          "model_module": "@jupyter-widgets/base",
          "model_name": "LayoutModel",
          "model_module_version": "1.2.0",
          "state": {
            "_model_module": "@jupyter-widgets/base",
            "_model_module_version": "1.2.0",
            "_model_name": "LayoutModel",
            "_view_count": null,
            "_view_module": "@jupyter-widgets/base",
            "_view_module_version": "1.2.0",
            "_view_name": "LayoutView",
            "align_content": null,
            "align_items": null,
            "align_self": null,
            "border": null,
            "bottom": null,
            "display": null,
            "flex": null,
            "flex_flow": null,
            "grid_area": null,
            "grid_auto_columns": null,
            "grid_auto_flow": null,
            "grid_auto_rows": null,
            "grid_column": null,
            "grid_gap": null,
            "grid_row": null,
            "grid_template_areas": null,
            "grid_template_columns": null,
            "grid_template_rows": null,
            "height": null,
            "justify_content": null,
            "justify_items": null,
            "left": null,
            "margin": null,
            "max_height": null,
            "max_width": null,
            "min_height": null,
            "min_width": null,
            "object_fit": null,
            "object_position": null,
            "order": null,
            "overflow": null,
            "overflow_x": null,
            "overflow_y": null,
            "padding": null,
            "right": null,
            "top": null,
            "visibility": null,
            "width": null
          }
        },
        "e991c26eaa884caf82f475142ae105bf": {
          "model_module": "@jupyter-widgets/base",
          "model_name": "LayoutModel",
          "model_module_version": "1.2.0",
          "state": {
            "_model_module": "@jupyter-widgets/base",
            "_model_module_version": "1.2.0",
            "_model_name": "LayoutModel",
            "_view_count": null,
            "_view_module": "@jupyter-widgets/base",
            "_view_module_version": "1.2.0",
            "_view_name": "LayoutView",
            "align_content": null,
            "align_items": null,
            "align_self": null,
            "border": null,
            "bottom": null,
            "display": null,
            "flex": null,
            "flex_flow": null,
            "grid_area": null,
            "grid_auto_columns": null,
            "grid_auto_flow": null,
            "grid_auto_rows": null,
            "grid_column": null,
            "grid_gap": null,
            "grid_row": null,
            "grid_template_areas": null,
            "grid_template_columns": null,
            "grid_template_rows": null,
            "height": null,
            "justify_content": null,
            "justify_items": null,
            "left": null,
            "margin": null,
            "max_height": null,
            "max_width": null,
            "min_height": null,
            "min_width": null,
            "object_fit": null,
            "object_position": null,
            "order": null,
            "overflow": null,
            "overflow_x": null,
            "overflow_y": null,
            "padding": null,
            "right": null,
            "top": null,
            "visibility": null,
            "width": null
          }
        },
        "cddd546062ed41c1b534b77ae47cee70": {
          "model_module": "@jupyter-widgets/controls",
          "model_name": "DescriptionStyleModel",
          "model_module_version": "1.5.0",
          "state": {
            "_model_module": "@jupyter-widgets/controls",
            "_model_module_version": "1.5.0",
            "_model_name": "DescriptionStyleModel",
            "_view_count": null,
            "_view_module": "@jupyter-widgets/base",
            "_view_module_version": "1.2.0",
            "_view_name": "StyleView",
            "description_width": ""
          }
        },
        "9f231bde39bd4ac6974f86386e5fe6a4": {
          "model_module": "@jupyter-widgets/base",
          "model_name": "LayoutModel",
          "model_module_version": "1.2.0",
          "state": {
            "_model_module": "@jupyter-widgets/base",
            "_model_module_version": "1.2.0",
            "_model_name": "LayoutModel",
            "_view_count": null,
            "_view_module": "@jupyter-widgets/base",
            "_view_module_version": "1.2.0",
            "_view_name": "LayoutView",
            "align_content": null,
            "align_items": null,
            "align_self": null,
            "border": null,
            "bottom": null,
            "display": null,
            "flex": null,
            "flex_flow": null,
            "grid_area": null,
            "grid_auto_columns": null,
            "grid_auto_flow": null,
            "grid_auto_rows": null,
            "grid_column": null,
            "grid_gap": null,
            "grid_row": null,
            "grid_template_areas": null,
            "grid_template_columns": null,
            "grid_template_rows": null,
            "height": null,
            "justify_content": null,
            "justify_items": null,
            "left": null,
            "margin": null,
            "max_height": null,
            "max_width": null,
            "min_height": null,
            "min_width": null,
            "object_fit": null,
            "object_position": null,
            "order": null,
            "overflow": null,
            "overflow_x": null,
            "overflow_y": null,
            "padding": null,
            "right": null,
            "top": null,
            "visibility": null,
            "width": null
          }
        },
        "94914cc35e1040aab9df0b3b9a6f8cb1": {
          "model_module": "@jupyter-widgets/controls",
          "model_name": "ProgressStyleModel",
          "model_module_version": "1.5.0",
          "state": {
            "_model_module": "@jupyter-widgets/controls",
            "_model_module_version": "1.5.0",
            "_model_name": "ProgressStyleModel",
            "_view_count": null,
            "_view_module": "@jupyter-widgets/base",
            "_view_module_version": "1.2.0",
            "_view_name": "StyleView",
            "bar_color": null,
            "description_width": ""
          }
        },
        "514107435b7a481196159f6d434ace84": {
          "model_module": "@jupyter-widgets/base",
          "model_name": "LayoutModel",
          "model_module_version": "1.2.0",
          "state": {
            "_model_module": "@jupyter-widgets/base",
            "_model_module_version": "1.2.0",
            "_model_name": "LayoutModel",
            "_view_count": null,
            "_view_module": "@jupyter-widgets/base",
            "_view_module_version": "1.2.0",
            "_view_name": "LayoutView",
            "align_content": null,
            "align_items": null,
            "align_self": null,
            "border": null,
            "bottom": null,
            "display": null,
            "flex": null,
            "flex_flow": null,
            "grid_area": null,
            "grid_auto_columns": null,
            "grid_auto_flow": null,
            "grid_auto_rows": null,
            "grid_column": null,
            "grid_gap": null,
            "grid_row": null,
            "grid_template_areas": null,
            "grid_template_columns": null,
            "grid_template_rows": null,
            "height": null,
            "justify_content": null,
            "justify_items": null,
            "left": null,
            "margin": null,
            "max_height": null,
            "max_width": null,
            "min_height": null,
            "min_width": null,
            "object_fit": null,
            "object_position": null,
            "order": null,
            "overflow": null,
            "overflow_x": null,
            "overflow_y": null,
            "padding": null,
            "right": null,
            "top": null,
            "visibility": null,
            "width": null
          }
        },
        "d8900943faa04657b9cbd4ea9ca87869": {
          "model_module": "@jupyter-widgets/controls",
          "model_name": "DescriptionStyleModel",
          "model_module_version": "1.5.0",
          "state": {
            "_model_module": "@jupyter-widgets/controls",
            "_model_module_version": "1.5.0",
            "_model_name": "DescriptionStyleModel",
            "_view_count": null,
            "_view_module": "@jupyter-widgets/base",
            "_view_module_version": "1.2.0",
            "_view_name": "StyleView",
            "description_width": ""
          }
        }
      }
    }
  },
  "cells": [
    {
      "cell_type": "markdown",
      "source": [
        "# DELIVERABLE: FINE-TUNING AND ADAPTATION OF LANGUAGE MODELS\n",
        "\n",
        "In this exercise the aim is to perform transfer learning from English to Spanish in the domain of sentiment analysis in opinions about movies.\n",
        "It is recommended to use a cross-lingual model in order to facilitate the learning transfer.\n",
        "\n",
        "- `xlm-roberta-base`\n",
        "- `xlm-roberta-large`"
      ],
      "metadata": {
        "id": "XLUdoZGL3h2I"
      }
    },
    {
      "cell_type": "code",
      "source": [
        "#pip install --upgrade bigframes\n",
        "!pip install bigframes"
      ],
      "metadata": {
        "id": "nPHmQGvhx5Uy"
      },
      "execution_count": null,
      "outputs": []
    },
    {
      "cell_type": "code",
      "source": [
        "\n",
        "!pip install ibis-framework\n",
        "\n",
        "#pip install --upgrade ibis-framework"
      ],
      "metadata": {
        "id": "Ouu2f8Uuxh0Z"
      },
      "execution_count": null,
      "outputs": []
    },
    {
      "cell_type": "markdown",
      "source": [
        "Choose between transformers or simpletransformers"
      ],
      "metadata": {
        "id": "D-SbpDJN4fTt"
      }
    },
    {
      "cell_type": "code",
      "source": [
        "!pip install transformers[torch]\n"
      ],
      "metadata": {
        "id": "uzTzUtqY35g9"
      },
      "execution_count": null,
      "outputs": []
    },
    {
      "cell_type": "code",
      "source": [
        "!pip install -q datasets"
      ],
      "metadata": {
        "id": "ucoaG8u7yg3z"
      },
      "execution_count": null,
      "outputs": []
    },
    {
      "cell_type": "code",
      "source": [],
      "metadata": {
        "id": "Sm2UIpk9sOwS"
      },
      "execution_count": null,
      "outputs": []
    },
    {
      "cell_type": "markdown",
      "source": [
        "## Loading, exploring and transforming data for tranformers"
      ],
      "metadata": {
        "id": "tH6PRt0YJo0m"
      }
    },
    {
      "cell_type": "markdown",
      "source": [
        "Get the data of opinions about movies from IMDB dataset (parquet format)"
      ],
      "metadata": {
        "id": "LaFYghhz4mvF"
      }
    },
    {
      "cell_type": "code",
      "execution_count": null,
      "metadata": {
        "id": "KB4-Qggv3eHv"
      },
      "outputs": [],
      "source": [
        "!wget -O imdb_train.parquet \"https://huggingface.co/datasets/imdb/resolve/refs%2Fconvert%2Fparquet/plain_text/train/0000.parquet\"\n",
        "!wget -O imdb_test.parquet  \"https://huggingface.co/datasets/imdb/resolve/refs%2Fconvert%2Fparquet/plain_text/test/0000.parquet\""
      ]
    },
    {
      "cell_type": "markdown",
      "source": [
        "# PART I: Training with the English dataset"
      ],
      "metadata": {
        "id": "kAYM8BMge1Pc"
      }
    },
    {
      "cell_type": "code",
      "source": [
        "!ls"
      ],
      "metadata": {
        "colab": {
          "base_uri": "https://localhost:8080/"
        },
        "id": "B4YbgUEN4Nk9",
        "outputId": "37d6ea95-c451-40ea-d64d-45cb83201222"
      },
      "execution_count": 6,
      "outputs": [
        {
          "output_type": "stream",
          "name": "stdout",
          "text": [
            "imdb_test.parquet  imdb_train.parquet  sample_data\n"
          ]
        }
      ]
    },
    {
      "cell_type": "code",
      "source": [
        "#import pyarrow.parquet as pq\n",
        "\n",
        "#train_table = pq.read_table(\"imdb_train.parquet\")\n",
        "##test_table = pq.read_table(\"imdb_test.parquet\")\n",
        "\n",
        "#train_df = train_table.to_pandas()\n",
        "#test_df = test_table.to_pandas()"
      ],
      "metadata": {
        "id": "3oUe5Sp_CmkK"
      },
      "execution_count": 7,
      "outputs": []
    },
    {
      "cell_type": "code",
      "source": [
        "import pandas as pd\n",
        "train_df = pd.read_parquet(\"imdb_train.parquet\")\n",
        "test_df = pd.read_parquet(\"imdb_test.parquet\")"
      ],
      "metadata": {
        "id": "bMDXg8d3_aWu"
      },
      "execution_count": 8,
      "outputs": []
    },
    {
      "cell_type": "markdown",
      "source": [
        "### Loading, exploring and transforming data for tranformers"
      ],
      "metadata": {
        "id": "UlzOumoCfMKb"
      }
    },
    {
      "cell_type": "code",
      "source": [
        "# Viewing information about datasets.\n",
        "print(train_df.info())\n",
        "print(test_df.info())"
      ],
      "metadata": {
        "colab": {
          "base_uri": "https://localhost:8080/"
        },
        "id": "3bCKAwECIqtV",
        "outputId": "29898688-ef36-48c2-abd5-acf271bebf74"
      },
      "execution_count": 9,
      "outputs": [
        {
          "output_type": "stream",
          "name": "stdout",
          "text": [
            "<class 'pandas.core.frame.DataFrame'>\n",
            "RangeIndex: 25000 entries, 0 to 24999\n",
            "Data columns (total 2 columns):\n",
            " #   Column  Non-Null Count  Dtype \n",
            "---  ------  --------------  ----- \n",
            " 0   text    25000 non-null  object\n",
            " 1   label   25000 non-null  int64 \n",
            "dtypes: int64(1), object(1)\n",
            "memory usage: 390.8+ KB\n",
            "None\n",
            "<class 'pandas.core.frame.DataFrame'>\n",
            "RangeIndex: 25000 entries, 0 to 24999\n",
            "Data columns (total 2 columns):\n",
            " #   Column  Non-Null Count  Dtype \n",
            "---  ------  --------------  ----- \n",
            " 0   text    25000 non-null  object\n",
            " 1   label   25000 non-null  int64 \n",
            "dtypes: int64(1), object(1)\n",
            "memory usage: 390.8+ KB\n",
            "None\n"
          ]
        }
      ]
    },
    {
      "cell_type": "code",
      "source": [
        "# Viewing the first records of the training dataset.\n",
        "print(train_df.head())"
      ],
      "metadata": {
        "colab": {
          "base_uri": "https://localhost:8080/"
        },
        "id": "jss4hqu5I2Xp",
        "outputId": "b60e38e4-8f1b-43e2-b54b-5125d4712d65"
      },
      "execution_count": 10,
      "outputs": [
        {
          "output_type": "stream",
          "name": "stdout",
          "text": [
            "                                                text  label\n",
            "0  I rented I AM CURIOUS-YELLOW from my video sto...      0\n",
            "1  \"I Am Curious: Yellow\" is a risible and preten...      0\n",
            "2  If only to avoid making this type of film in t...      0\n",
            "3  This film was probably inspired by Godard's Ma...      0\n",
            "4  Oh, brother...after hearing about this ridicul...      0\n"
          ]
        }
      ]
    },
    {
      "cell_type": "code",
      "source": [
        "# Distribution of classes in the training dataset.\n",
        "print(train_df['label'].value_counts(normalize=True))"
      ],
      "metadata": {
        "colab": {
          "base_uri": "https://localhost:8080/"
        },
        "id": "ElMW5kONI7RL",
        "outputId": "4c88f195-803c-4ef8-f62f-b9168739f0d4"
      },
      "execution_count": 11,
      "outputs": [
        {
          "output_type": "stream",
          "name": "stdout",
          "text": [
            "0    0.5\n",
            "1    0.5\n",
            "Name: label, dtype: float64\n"
          ]
        }
      ]
    },
    {
      "cell_type": "markdown",
      "source": [
        "### Get the tokenizer and the classification model (xlm-roberta-base)"
      ],
      "metadata": {
        "id": "qqHD7BBEgJwe"
      }
    },
    {
      "cell_type": "code",
      "source": [
        "##Very Very LONG\n",
        "from transformers import AutoTokenizer\n",
        "\n",
        "# Loading the tokenizer.\n",
        "tokenizer = AutoTokenizer.from_pretrained('xlm-roberta-base')\n",
        "\n",
        "# Function for tokenizing the dataset.\n",
        "def tokenize_function(examples):\n",
        "    return tokenizer(examples['text'], padding=\"max_length\", truncation=True, max_length=512)\n",
        "\n"
      ],
      "metadata": {
        "id": "mog5uCl8_acu",
        "colab": {
          "base_uri": "https://localhost:8080/",
          "height": 237,
          "referenced_widgets": [
            "1b4ae48d75814cb4bb694e48fba03c1a",
            "c19bf861ab7e4f41a2ecf1ccf5a9f891",
            "466007e0ceed432fa849a45a003f2a90",
            "79c6ca24a39b4605b1c89943a618b23d",
            "c6987fe51fa2448f8a4b9af4f7efd110",
            "d795ba88e5834a3ebf82dc95b6ba2aa5",
            "36796aa4282e40548523284f526ff748",
            "593a041c20a64ae48fc48602469bf55a",
            "4d2ac8174ea94b65a7663ae38f2048fd",
            "b55cf03195b645779523680df3164792",
            "ed11ab94d5e14d7b836ea8ec0b205220",
            "2d121003800341f3a3f2a8213ad82bbc",
            "11c00a8a0ce64f18b5b5c0f24e4c1929",
            "39421b7007cb41539e05d4a84324b608",
            "644e3e5916f546b4823026dccdf2a434",
            "213610b5a20e4424b04fea4d873c3699",
            "77eaae82496e45218ff8cdd2583fc501",
            "445a6c709bc34bdbb3aeeba296cff732",
            "497faa78aa144fc9bbda0a45dbd8f69c",
            "205b79d363454d6b8fefdfb7fedbc99b",
            "e874eb11a7f24f91b29cc9fec88d771b",
            "9e4284f0b0d6461fab3f90b3b15def9f",
            "bd385ff572d14f9485d682b3ad721c0b",
            "88ed694b24f74a7681af43ce3d862593",
            "c074c0d6f782424dbc47f63fe27751c4",
            "143e6fc2c28e4e6fb3e00b5c18f9ef03",
            "6cf71eca7e854bb3ad09b83e9b0f1f45",
            "a6972f53fe054ee4a8fb3a2e48d99adc",
            "4c60da3bb6244fcba14c6ac562bc601b",
            "7ad8105c11d84322b171a419ddec1c53",
            "fcacdb3f84c94a0a82ead214566f7a2c",
            "fee0953fa40d4fe1994bffa880f25c43",
            "5de820a4951c42098cedd1b7ced9ef92"
          ]
        },
        "outputId": "714372aa-fdbe-4f01-eb52-e5bb63ac5bfb"
      },
      "execution_count": 12,
      "outputs": [
        {
          "output_type": "stream",
          "name": "stderr",
          "text": [
            "/usr/local/lib/python3.10/dist-packages/huggingface_hub/utils/_token.py:88: UserWarning: \n",
            "The secret `HF_TOKEN` does not exist in your Colab secrets.\n",
            "To authenticate with the Hugging Face Hub, create a token in your settings tab (https://huggingface.co/settings/tokens), set it as secret in your Google Colab and restart your session.\n",
            "You will be able to reuse this secret in all of your notebooks.\n",
            "Please note that authentication is recommended but still optional to access public models or datasets.\n",
            "  warnings.warn(\n"
          ]
        },
        {
          "output_type": "display_data",
          "data": {
            "text/plain": [
              "config.json:   0%|          | 0.00/615 [00:00<?, ?B/s]"
            ],
            "application/vnd.jupyter.widget-view+json": {
              "version_major": 2,
              "version_minor": 0,
              "model_id": "1b4ae48d75814cb4bb694e48fba03c1a"
            }
          },
          "metadata": {}
        },
        {
          "output_type": "display_data",
          "data": {
            "text/plain": [
              "sentencepiece.bpe.model:   0%|          | 0.00/5.07M [00:00<?, ?B/s]"
            ],
            "application/vnd.jupyter.widget-view+json": {
              "version_major": 2,
              "version_minor": 0,
              "model_id": "2d121003800341f3a3f2a8213ad82bbc"
            }
          },
          "metadata": {}
        },
        {
          "output_type": "display_data",
          "data": {
            "text/plain": [
              "tokenizer.json:   0%|          | 0.00/9.10M [00:00<?, ?B/s]"
            ],
            "application/vnd.jupyter.widget-view+json": {
              "version_major": 2,
              "version_minor": 0,
              "model_id": "bd385ff572d14f9485d682b3ad721c0b"
            }
          },
          "metadata": {}
        }
      ]
    },
    {
      "cell_type": "code",
      "source": [
        "##Thiss is Shoter\n",
        "#from transformers import AutoTokenizer\n",
        "\n",
        "#model_name = \"microsoft/MiniLM-L12-H384-uncased\" #recommended: microsoft/MiniLM-L12-H384-uncased\n",
        "#tokenizer = AutoTokenizer.from_pretrained(model_name)\n",
        "\n",
        "# Функция для токенизации датасета\n",
        "#def tokenize_function(examples):\n",
        "    #return tokenizer(examples['text'], padding=\"max_length\", truncation=True, max_length=512)"
      ],
      "metadata": {
        "id": "qfV3AJMDks07"
      },
      "execution_count": null,
      "outputs": []
    },
    {
      "cell_type": "code",
      "source": [
        "# Tokenization of the data.\n",
        "train_tokenized = tokenize_function(train_df.to_dict(orient='list'))\n",
        "test_tokenized = tokenize_function(test_df.to_dict(orient='list'))"
      ],
      "metadata": {
        "id": "shOAMC9FJJGh"
      },
      "execution_count": 13,
      "outputs": []
    },
    {
      "cell_type": "code",
      "source": [
        "import torch\n",
        "\n",
        "# Conversion of tokenized data into PyTorch tensors.\n",
        "class IMDbDataset(torch.utils.data.Dataset):\n",
        "    def __init__(self, encodings, labels):\n",
        "        self.encodings = encodings\n",
        "        self.labels = labels\n",
        "\n",
        "    def __getitem__(self, idx):\n",
        "        item = {key: torch.tensor(val[idx]) for key, val in self.encodings.items()}\n",
        "        item['labels'] = torch.tensor(self.labels[idx])\n",
        "        return item\n",
        "\n",
        "    def __len__(self):\n",
        "        return len(self.labels)\n",
        "\n",
        "# Creation of dataset objects for training and testing.\n",
        "train_dataset = IMDbDataset(train_tokenized, train_df['label'].tolist())\n",
        "test_dataset = IMDbDataset(test_tokenized, test_df['label'].tolist())"
      ],
      "metadata": {
        "id": "zUSVEl61JJJw"
      },
      "execution_count": 14,
      "outputs": []
    },
    {
      "cell_type": "markdown",
      "source": [
        "### Prepare the Trainer from a cross-lingual pretrained model"
      ],
      "metadata": {
        "id": "Eoc9O3dMJz6n"
      }
    },
    {
      "cell_type": "code",
      "source": [
        "#IMDB is a binary classification task, so the number of class labels (num_labels) would be 2.\n",
        "from transformers import AutoModelForSequenceClassification, TrainingArguments, Trainer\n",
        "\n",
        "model = AutoModelForSequenceClassification.from_pretrained('xlm-roberta-base', num_labels=2)\n"
      ],
      "metadata": {
        "colab": {
          "base_uri": "https://localhost:8080/",
          "height": 104,
          "referenced_widgets": [
            "555b71ece51e45d1b33e9062104a393e",
            "29b3b7900d7644b5b1656f6f18b5d655",
            "8ace096bc0f34d2a83211bbe419a95f3",
            "268f1feb363d450587c846524e5c33e1",
            "7e6e6226df844f8595f4ccf6219f5e13",
            "e991c26eaa884caf82f475142ae105bf",
            "cddd546062ed41c1b534b77ae47cee70",
            "9f231bde39bd4ac6974f86386e5fe6a4",
            "94914cc35e1040aab9df0b3b9a6f8cb1",
            "514107435b7a481196159f6d434ace84",
            "d8900943faa04657b9cbd4ea9ca87869"
          ]
        },
        "id": "OLl2E-X-JJPo",
        "outputId": "c0a8581d-28ce-45b5-d3de-b4d8b45be4b1"
      },
      "execution_count": 15,
      "outputs": [
        {
          "output_type": "display_data",
          "data": {
            "text/plain": [
              "model.safetensors:   0%|          | 0.00/1.12G [00:00<?, ?B/s]"
            ],
            "application/vnd.jupyter.widget-view+json": {
              "version_major": 2,
              "version_minor": 0,
              "model_id": "555b71ece51e45d1b33e9062104a393e"
            }
          },
          "metadata": {}
        },
        {
          "output_type": "stream",
          "name": "stderr",
          "text": [
            "Some weights of XLMRobertaForSequenceClassification were not initialized from the model checkpoint at xlm-roberta-base and are newly initialized: ['classifier.out_proj.weight', 'classifier.out_proj.bias', 'classifier.dense.bias', 'classifier.dense.weight']\n",
            "You should probably TRAIN this model on a down-stream task to be able to use it for predictions and inference.\n"
          ]
        }
      ]
    },
    {
      "cell_type": "code",
      "source": [
        "#2:Setting up training arguments.\n",
        "training_args = TrainingArguments(\n",
        "    output_dir='./results',          # Directory for saving results\n",
        "    num_train_epochs=5,              # Number of training epochs\n",
        "    per_device_train_batch_size=48,   # Batch size for training\n",
        "    per_device_eval_batch_size=16,   # Batch size for evaluation\n",
        "    warmup_steps=500,                # Number of warmup steps\n",
        "    weight_decay=0.01,               # Weight decay\n",
        "    logging_dir='./logs',            # Directory for logs\n",
        "    logging_steps=10,                # Logging frequency\n",
        "    evaluation_strategy=\"epoch\",     # Evaluation strategy\n",
        "    save_strategy=\"epoch\",           # Model saving strategy\n",
        "    load_best_model_at_end=True,     # Load the best model at the end of training\n",
        "    metric_for_best_model=\"accuracy\" # Metric for selecting the best model\n",
        ")\n"
      ],
      "metadata": {
        "id": "0ECTb9c_J2vo"
      },
      "execution_count": 32,
      "outputs": []
    },
    {
      "cell_type": "code",
      "source": [
        "# 3: Definition of a function for calculating metrics.\n",
        "from sklearn.metrics import accuracy_score, f1_score\n",
        "\n",
        "def compute_metrics(pred):\n",
        "    labels = pred.label_ids\n",
        "    preds = pred.predictions.argmax(-1)\n",
        "    acc = accuracy_score(labels, preds)\n",
        "    f1 = f1_score(labels, preds, average='binary')\n",
        "    return {'accuracy': acc, 'f1': f1}"
      ],
      "metadata": {
        "id": "jKdbNKnoJ2yo"
      },
      "execution_count": 33,
      "outputs": []
    },
    {
      "cell_type": "markdown",
      "source": [
        "### Prepare the arguments of the trainer and set the trained object"
      ],
      "metadata": {
        "id": "-P4Fs9tAf7NZ"
      }
    },
    {
      "cell_type": "code",
      "source": [
        "trainer = Trainer(\n",
        "    model=model,\n",
        "    args=training_args,\n",
        "    train_dataset=train_dataset,\n",
        "    eval_dataset=test_dataset,\n",
        "    compute_metrics=compute_metrics\n",
        ")"
      ],
      "metadata": {
        "id": "-ZrWxjCgJ22y"
      },
      "execution_count": 34,
      "outputs": []
    },
    {
      "cell_type": "markdown",
      "source": [
        "### Train"
      ],
      "metadata": {
        "id": "VLWKNX_ugmin"
      }
    },
    {
      "cell_type": "code",
      "source": [
        "# Запуск обучения\n",
        "trainer.train()"
      ],
      "metadata": {
        "colab": {
          "base_uri": "https://localhost:8080/",
          "height": 284
        },
        "id": "3SeYyinRKcdK",
        "outputId": "2271ae63-d1c8-4558-ade4-beb85ee919fb"
      },
      "execution_count": 35,
      "outputs": [
        {
          "output_type": "display_data",
          "data": {
            "text/plain": [
              "<IPython.core.display.HTML object>"
            ],
            "text/html": [
              "\n",
              "    <div>\n",
              "      \n",
              "      <progress value='2605' max='2605' style='width:300px; height:20px; vertical-align: middle;'></progress>\n",
              "      [2605/2605 1:00:44, Epoch 5/5]\n",
              "    </div>\n",
              "    <table border=\"1\" class=\"dataframe\">\n",
              "  <thead>\n",
              " <tr style=\"text-align: left;\">\n",
              "      <th>Epoch</th>\n",
              "      <th>Training Loss</th>\n",
              "      <th>Validation Loss</th>\n",
              "      <th>Accuracy</th>\n",
              "      <th>F1</th>\n",
              "    </tr>\n",
              "  </thead>\n",
              "  <tbody>\n",
              "    <tr>\n",
              "      <td>1</td>\n",
              "      <td>0.223000</td>\n",
              "      <td>0.236538</td>\n",
              "      <td>0.916800</td>\n",
              "      <td>0.920586</td>\n",
              "    </tr>\n",
              "    <tr>\n",
              "      <td>2</td>\n",
              "      <td>0.163200</td>\n",
              "      <td>0.164512</td>\n",
              "      <td>0.938480</td>\n",
              "      <td>0.939123</td>\n",
              "    </tr>\n",
              "    <tr>\n",
              "      <td>3</td>\n",
              "      <td>0.114800</td>\n",
              "      <td>0.198857</td>\n",
              "      <td>0.936160</td>\n",
              "      <td>0.934862</td>\n",
              "    </tr>\n",
              "    <tr>\n",
              "      <td>4</td>\n",
              "      <td>0.063600</td>\n",
              "      <td>0.239792</td>\n",
              "      <td>0.939880</td>\n",
              "      <td>0.940950</td>\n",
              "    </tr>\n",
              "    <tr>\n",
              "      <td>5</td>\n",
              "      <td>0.026600</td>\n",
              "      <td>0.297615</td>\n",
              "      <td>0.940880</td>\n",
              "      <td>0.941907</td>\n",
              "    </tr>\n",
              "  </tbody>\n",
              "</table><p>"
            ]
          },
          "metadata": {}
        },
        {
          "output_type": "execute_result",
          "data": {
            "text/plain": [
              "TrainOutput(global_step=2605, training_loss=0.15123920946197866, metrics={'train_runtime': 3645.8703, 'train_samples_per_second': 34.285, 'train_steps_per_second': 0.715, 'total_flos': 3.288888192e+16, 'train_loss': 0.15123920946197866, 'epoch': 5.0})"
            ]
          },
          "metadata": {},
          "execution_count": 35
        }
      ]
    },
    {
      "cell_type": "markdown",
      "source": [
        "### Evaluate the model with the test dataset (English)"
      ],
      "metadata": {
        "id": "i_eLbFYYgvdL"
      }
    },
    {
      "cell_type": "code",
      "source": [
        "# Model evaluation on the test dataset.\n",
        "trainer.evaluate(test_dataset)"
      ],
      "metadata": {
        "id": "Y_CnLpSVKcgH",
        "colab": {
          "base_uri": "https://localhost:8080/",
          "height": 159
        },
        "outputId": "bd9fb251-2a0b-4b0d-d7b0-a4af5b3226c0"
      },
      "execution_count": 36,
      "outputs": [
        {
          "output_type": "display_data",
          "data": {
            "text/plain": [
              "<IPython.core.display.HTML object>"
            ],
            "text/html": [
              "\n",
              "    <div>\n",
              "      \n",
              "      <progress value='1563' max='1563' style='width:300px; height:20px; vertical-align: middle;'></progress>\n",
              "      [1563/1563 03:04]\n",
              "    </div>\n",
              "    "
            ]
          },
          "metadata": {}
        },
        {
          "output_type": "execute_result",
          "data": {
            "text/plain": [
              "{'eval_loss': 0.2976151406764984,\n",
              " 'eval_accuracy': 0.94088,\n",
              " 'eval_f1': 0.9419070827765113,\n",
              " 'eval_runtime': 185.0788,\n",
              " 'eval_samples_per_second': 135.078,\n",
              " 'eval_steps_per_second': 8.445,\n",
              " 'epoch': 5.0}"
            ]
          },
          "metadata": {},
          "execution_count": 36
        }
      ]
    },
    {
      "cell_type": "code",
      "source": [
        "import os\n",
        "\n",
        "model_path = 'D:/BDModel/model'\n",
        "tokenizer_path = 'D:/BDModel/tokenizer'\n",
        "\n",
        "# Создание директорий, если они еще не существуют\n",
        "if not os.path.exists(model_path):\n",
        "    os.makedirs(model_path)\n",
        "if not os.path.exists(tokenizer_path):\n",
        "    os.makedirs(tokenizer_path)\n",
        "\n",
        "# Сохранение модели и токенизатора\n",
        "model.save_pretrained(model_path)\n",
        "tokenizer.save_pretrained(tokenizer_path)\n"
      ],
      "metadata": {
        "id": "Asmtj8qeKcjd",
        "colab": {
          "base_uri": "https://localhost:8080/"
        },
        "outputId": "bf169545-1721-40b3-f3c5-bc6f82765024"
      },
      "execution_count": 37,
      "outputs": [
        {
          "output_type": "execute_result",
          "data": {
            "text/plain": [
              "('D:/BDModel/tokenizer/tokenizer_config.json',\n",
              " 'D:/BDModel/tokenizer/special_tokens_map.json',\n",
              " 'D:/BDModel/tokenizer/sentencepiece.bpe.model',\n",
              " 'D:/BDModel/tokenizer/added_tokens.json',\n",
              " 'D:/BDModel/tokenizer/tokenizer.json')"
            ]
          },
          "metadata": {},
          "execution_count": 37
        }
      ]
    },
    {
      "cell_type": "code",
      "source": [
        "model_path = './BDModel/model'\n",
        "tokenizer_path = './BDModel/tokenizer'\n",
        "\n",
        "# Создание директорий, если они еще не существуют\n",
        "if not os.path.exists(model_path):\n",
        "    os.makedirs(model_path)\n",
        "if not os.path.exists(tokenizer_path):\n",
        "    os.makedirs(tokenizer_path)\n",
        "\n",
        "# Сохранение модели и токенизатора\n",
        "model.save_pretrained(model_path)\n",
        "tokenizer.save_pretrained(tokenizer_path)"
      ],
      "metadata": {
        "id": "6KUfGJPsJ258",
        "colab": {
          "base_uri": "https://localhost:8080/"
        },
        "outputId": "b9bc02f4-b616-42db-f304-53af3445c71b"
      },
      "execution_count": 38,
      "outputs": [
        {
          "output_type": "execute_result",
          "data": {
            "text/plain": [
              "('./BDModel/tokenizer/tokenizer_config.json',\n",
              " './BDModel/tokenizer/special_tokens_map.json',\n",
              " './BDModel/tokenizer/sentencepiece.bpe.model',\n",
              " './BDModel/tokenizer/added_tokens.json',\n",
              " './BDModel/tokenizer/tokenizer.json')"
            ]
          },
          "metadata": {},
          "execution_count": 38
        }
      ]
    },
    {
      "cell_type": "code",
      "source": [
        "import zipfile\n",
        "\n",
        "# Путь к папке BDModel\n",
        "folder_path = './BDModel'\n",
        "\n",
        "# Путь к архивному файлу, который вы хотите создать\n",
        "zip_file_path = './BDModel_archive.zip'\n",
        "\n",
        "# Создание архива\n",
        "with zipfile.ZipFile(zip_file_path, 'w', zipfile.ZIP_DEFLATED) as zipf:\n",
        "    # Рекурсивное добавление всех файлов и подпапок из папки BDModel в архив\n",
        "    for root, dirs, files in os.walk(folder_path):\n",
        "        for file in files:\n",
        "            zipf.write(os.path.join(root, file), os.path.relpath(os.path.join(root, file), os.path.join(folder_path, '..')))\n"
      ],
      "metadata": {
        "id": "8voVf7WLJzPg"
      },
      "execution_count": 39,
      "outputs": []
    },
    {
      "cell_type": "markdown",
      "source": [
        "### Get the tokenizer and the classification model (from_pretrained)"
      ],
      "metadata": {
        "id": "ULRsRpZPfrv6"
      }
    },
    {
      "cell_type": "code",
      "source": [
        "#from transformers import AutoTokenizer\n",
        "#Путь к сохраненному токенизатору\n",
        "tokenizer_path = 'D:/BDModel/tokenizer'\n",
        "\n",
        "# Загрузка токенизатора из локальной директории\n",
        "tokenizer = AutoTokenizer.from_pretrained(tokenizer_path)\n"
      ],
      "metadata": {
        "id": "OAspwu4-AXRm"
      },
      "execution_count": 118,
      "outputs": []
    },
    {
      "cell_type": "code",
      "source": [
        "#from transformers import AutoModelForSequenceClassification\n",
        "\n",
        "# Путь к сохраненной модели\n",
        "model_path = 'D:/BDModel/model'\n",
        "\n",
        "# Загрузка модели из локальной директории\n",
        "model = AutoModelForSequenceClassification.from_pretrained(model_path)\n"
      ],
      "metadata": {
        "id": "28vCU1KOAXUo"
      },
      "execution_count": 119,
      "outputs": []
    },
    {
      "cell_type": "code",
      "source": [
        "# Пример текста для классификации Example text for classification\n",
        "text = \"This movie was fantastic! I loved it.\"\n",
        "\n",
        "# Токенизация текста Tokenization of the text\n",
        "inputs = tokenizer(text, return_tensors=\"pt\", padding=True, truncation=True, max_length=512)\n",
        "\n",
        "# Получение предсказаний от модели Getting predictions from the model\n",
        "outputs = model(**inputs)\n",
        "\n",
        "# Преобразование выходных данных модели в вероятности Conversion of the model's output into probabilities\n",
        "import torch.nn.functional as F\n",
        "probs = F.softmax(outputs.logits, dim=-1)\n",
        "\n",
        "# Вывод вероятностей для каждого класса Displaying the probabilities for each class\n",
        "print(probs)\n"
      ],
      "metadata": {
        "colab": {
          "base_uri": "https://localhost:8080/"
        },
        "id": "vHpN0SkxAXXt",
        "outputId": "9914be5c-5065-47c8-869e-d4ef870be290"
      },
      "execution_count": 120,
      "outputs": [
        {
          "output_type": "stream",
          "name": "stdout",
          "text": [
            "tensor([[0.0011, 0.9989]], grad_fn=<SoftmaxBackward0>)\n"
          ]
        }
      ]
    },
    {
      "cell_type": "code",
      "source": [
        "# Пример текста для классификации\n",
        "text = \"This movie bad.\"\n",
        "\n",
        "# Токенизация текста\n",
        "inputs = tokenizer(text, return_tensors=\"pt\", padding=True, truncation=True, max_length=512)\n",
        "\n",
        "# Получение предсказаний от модели\n",
        "outputs = model(**inputs)\n",
        "\n",
        "# Преобразование выходных данных модели в вероятности\n",
        "import torch.nn.functional as F\n",
        "probs = F.softmax(outputs.logits, dim=-1)\n",
        "\n",
        "# Вывод вероятностей для каждого класса\n",
        "print(probs)"
      ],
      "metadata": {
        "colab": {
          "base_uri": "https://localhost:8080/"
        },
        "id": "hhWNDbbbAXcO",
        "outputId": "c5a0f51c-f282-4fd9-a12e-033146d71904"
      },
      "execution_count": 121,
      "outputs": [
        {
          "output_type": "stream",
          "name": "stdout",
          "text": [
            "tensor([[9.9937e-01, 6.2613e-04]], grad_fn=<SoftmaxBackward0>)\n"
          ]
        }
      ]
    },
    {
      "cell_type": "markdown",
      "source": [
        "# Part II: Adaptation to Spanish dataset (criticas_pelis)"
      ],
      "metadata": {
        "id": "ZE2sptmZg5v0"
      }
    },
    {
      "cell_type": "markdown",
      "source": [
        "### Load, explore and transform the Spanish dataset of Critics"
      ],
      "metadata": {
        "id": "TJxSFCQShjs8"
      }
    },
    {
      "cell_type": "code",
      "source": [
        "!wget https://krono.act.uji.es/IDIA/criticas_pelis.csv.gz\n",
        "!gunzip criticas_pelis.csv.gz"
      ],
      "metadata": {
        "colab": {
          "base_uri": "https://localhost:8080/"
        },
        "id": "wKNy1hYYAXfH",
        "outputId": "42bec7ce-21a0-4272-c172-621f54eb0e9c"
      },
      "execution_count": 47,
      "outputs": [
        {
          "output_type": "stream",
          "name": "stdout",
          "text": [
            "--2024-02-12 15:54:25--  https://krono.act.uji.es/IDIA/criticas_pelis.csv.gz\n",
            "Resolving krono.act.uji.es (krono.act.uji.es)... 150.128.97.37\n",
            "Connecting to krono.act.uji.es (krono.act.uji.es)|150.128.97.37|:443... connected.\n",
            "HTTP request sent, awaiting response... 200 OK\n",
            "Length: 4447654 (4.2M) [application/x-gzip]\n",
            "Saving to: ‘criticas_pelis.csv.gz’\n",
            "\n",
            "criticas_pelis.csv. 100%[===================>]   4.24M  4.04MB/s    in 1.1s    \n",
            "\n",
            "2024-02-12 15:54:27 (4.04 MB/s) - ‘criticas_pelis.csv.gz’ saved [4447654/4447654]\n",
            "\n"
          ]
        }
      ]
    },
    {
      "cell_type": "code",
      "source": [
        "df = pd.read_csv(\"criticas_pelis.csv\", names=[\"Row\", \"File\", \"Text\", \"Rating\"])\n",
        "df.head()"
      ],
      "metadata": {
        "colab": {
          "base_uri": "https://localhost:8080/",
          "height": 206
        },
        "id": "7S3Pk_74IinW",
        "outputId": "2473e42c-430a-437b-d10e-d44a410d9030"
      },
      "execution_count": 49,
      "outputs": [
        {
          "output_type": "execute_result",
          "data": {
            "text/plain": [
              "    Row       File                                               Text  Rating\n",
              "0  Row0     File-0   May, ¿quieres ser mi amigo? May, ¿Quieres ser...       4\n",
              "1  Row1     File-1   Cómo ponerse en la piel de un kamikaze Es tod...       4\n",
              "2  Row2    File-10   Deliciosa comedieta dramática, con tintes rev...       4\n",
              "3  Row3   File-100   La ironía es el arma de los perdedores y este...       3\n",
              "4  Row4  File-1000   Al final, y teniendo en cuenta que esto es el...       3"
            ],
            "text/html": [
              "\n",
              "  <div id=\"df-788c99b1-af93-4900-93b2-f2846e69aae7\" class=\"colab-df-container\">\n",
              "    <div>\n",
              "<style scoped>\n",
              "    .dataframe tbody tr th:only-of-type {\n",
              "        vertical-align: middle;\n",
              "    }\n",
              "\n",
              "    .dataframe tbody tr th {\n",
              "        vertical-align: top;\n",
              "    }\n",
              "\n",
              "    .dataframe thead th {\n",
              "        text-align: right;\n",
              "    }\n",
              "</style>\n",
              "<table border=\"1\" class=\"dataframe\">\n",
              "  <thead>\n",
              "    <tr style=\"text-align: right;\">\n",
              "      <th></th>\n",
              "      <th>Row</th>\n",
              "      <th>File</th>\n",
              "      <th>Text</th>\n",
              "      <th>Rating</th>\n",
              "    </tr>\n",
              "  </thead>\n",
              "  <tbody>\n",
              "    <tr>\n",
              "      <th>0</th>\n",
              "      <td>Row0</td>\n",
              "      <td>File-0</td>\n",
              "      <td>May, ¿quieres ser mi amigo? May, ¿Quieres ser...</td>\n",
              "      <td>4</td>\n",
              "    </tr>\n",
              "    <tr>\n",
              "      <th>1</th>\n",
              "      <td>Row1</td>\n",
              "      <td>File-1</td>\n",
              "      <td>Cómo ponerse en la piel de un kamikaze Es tod...</td>\n",
              "      <td>4</td>\n",
              "    </tr>\n",
              "    <tr>\n",
              "      <th>2</th>\n",
              "      <td>Row2</td>\n",
              "      <td>File-10</td>\n",
              "      <td>Deliciosa comedieta dramática, con tintes rev...</td>\n",
              "      <td>4</td>\n",
              "    </tr>\n",
              "    <tr>\n",
              "      <th>3</th>\n",
              "      <td>Row3</td>\n",
              "      <td>File-100</td>\n",
              "      <td>La ironía es el arma de los perdedores y este...</td>\n",
              "      <td>3</td>\n",
              "    </tr>\n",
              "    <tr>\n",
              "      <th>4</th>\n",
              "      <td>Row4</td>\n",
              "      <td>File-1000</td>\n",
              "      <td>Al final, y teniendo en cuenta que esto es el...</td>\n",
              "      <td>3</td>\n",
              "    </tr>\n",
              "  </tbody>\n",
              "</table>\n",
              "</div>\n",
              "    <div class=\"colab-df-buttons\">\n",
              "\n",
              "  <div class=\"colab-df-container\">\n",
              "    <button class=\"colab-df-convert\" onclick=\"convertToInteractive('df-788c99b1-af93-4900-93b2-f2846e69aae7')\"\n",
              "            title=\"Convert this dataframe to an interactive table.\"\n",
              "            style=\"display:none;\">\n",
              "\n",
              "  <svg xmlns=\"http://www.w3.org/2000/svg\" height=\"24px\" viewBox=\"0 -960 960 960\">\n",
              "    <path d=\"M120-120v-720h720v720H120Zm60-500h600v-160H180v160Zm220 220h160v-160H400v160Zm0 220h160v-160H400v160ZM180-400h160v-160H180v160Zm440 0h160v-160H620v160ZM180-180h160v-160H180v160Zm440 0h160v-160H620v160Z\"/>\n",
              "  </svg>\n",
              "    </button>\n",
              "\n",
              "  <style>\n",
              "    .colab-df-container {\n",
              "      display:flex;\n",
              "      gap: 12px;\n",
              "    }\n",
              "\n",
              "    .colab-df-convert {\n",
              "      background-color: #E8F0FE;\n",
              "      border: none;\n",
              "      border-radius: 50%;\n",
              "      cursor: pointer;\n",
              "      display: none;\n",
              "      fill: #1967D2;\n",
              "      height: 32px;\n",
              "      padding: 0 0 0 0;\n",
              "      width: 32px;\n",
              "    }\n",
              "\n",
              "    .colab-df-convert:hover {\n",
              "      background-color: #E2EBFA;\n",
              "      box-shadow: 0px 1px 2px rgba(60, 64, 67, 0.3), 0px 1px 3px 1px rgba(60, 64, 67, 0.15);\n",
              "      fill: #174EA6;\n",
              "    }\n",
              "\n",
              "    .colab-df-buttons div {\n",
              "      margin-bottom: 4px;\n",
              "    }\n",
              "\n",
              "    [theme=dark] .colab-df-convert {\n",
              "      background-color: #3B4455;\n",
              "      fill: #D2E3FC;\n",
              "    }\n",
              "\n",
              "    [theme=dark] .colab-df-convert:hover {\n",
              "      background-color: #434B5C;\n",
              "      box-shadow: 0px 1px 3px 1px rgba(0, 0, 0, 0.15);\n",
              "      filter: drop-shadow(0px 1px 2px rgba(0, 0, 0, 0.3));\n",
              "      fill: #FFFFFF;\n",
              "    }\n",
              "  </style>\n",
              "\n",
              "    <script>\n",
              "      const buttonEl =\n",
              "        document.querySelector('#df-788c99b1-af93-4900-93b2-f2846e69aae7 button.colab-df-convert');\n",
              "      buttonEl.style.display =\n",
              "        google.colab.kernel.accessAllowed ? 'block' : 'none';\n",
              "\n",
              "      async function convertToInteractive(key) {\n",
              "        const element = document.querySelector('#df-788c99b1-af93-4900-93b2-f2846e69aae7');\n",
              "        const dataTable =\n",
              "          await google.colab.kernel.invokeFunction('convertToInteractive',\n",
              "                                                    [key], {});\n",
              "        if (!dataTable) return;\n",
              "\n",
              "        const docLinkHtml = 'Like what you see? Visit the ' +\n",
              "          '<a target=\"_blank\" href=https://colab.research.google.com/notebooks/data_table.ipynb>data table notebook</a>'\n",
              "          + ' to learn more about interactive tables.';\n",
              "        element.innerHTML = '';\n",
              "        dataTable['output_type'] = 'display_data';\n",
              "        await google.colab.output.renderOutput(dataTable, element);\n",
              "        const docLink = document.createElement('div');\n",
              "        docLink.innerHTML = docLinkHtml;\n",
              "        element.appendChild(docLink);\n",
              "      }\n",
              "    </script>\n",
              "  </div>\n",
              "\n",
              "\n",
              "<div id=\"df-a527a2c7-4305-4983-810e-782bccc97a48\">\n",
              "  <button class=\"colab-df-quickchart\" onclick=\"quickchart('df-a527a2c7-4305-4983-810e-782bccc97a48')\"\n",
              "            title=\"Suggest charts\"\n",
              "            style=\"display:none;\">\n",
              "\n",
              "<svg xmlns=\"http://www.w3.org/2000/svg\" height=\"24px\"viewBox=\"0 0 24 24\"\n",
              "     width=\"24px\">\n",
              "    <g>\n",
              "        <path d=\"M19 3H5c-1.1 0-2 .9-2 2v14c0 1.1.9 2 2 2h14c1.1 0 2-.9 2-2V5c0-1.1-.9-2-2-2zM9 17H7v-7h2v7zm4 0h-2V7h2v10zm4 0h-2v-4h2v4z\"/>\n",
              "    </g>\n",
              "</svg>\n",
              "  </button>\n",
              "\n",
              "<style>\n",
              "  .colab-df-quickchart {\n",
              "      --bg-color: #E8F0FE;\n",
              "      --fill-color: #1967D2;\n",
              "      --hover-bg-color: #E2EBFA;\n",
              "      --hover-fill-color: #174EA6;\n",
              "      --disabled-fill-color: #AAA;\n",
              "      --disabled-bg-color: #DDD;\n",
              "  }\n",
              "\n",
              "  [theme=dark] .colab-df-quickchart {\n",
              "      --bg-color: #3B4455;\n",
              "      --fill-color: #D2E3FC;\n",
              "      --hover-bg-color: #434B5C;\n",
              "      --hover-fill-color: #FFFFFF;\n",
              "      --disabled-bg-color: #3B4455;\n",
              "      --disabled-fill-color: #666;\n",
              "  }\n",
              "\n",
              "  .colab-df-quickchart {\n",
              "    background-color: var(--bg-color);\n",
              "    border: none;\n",
              "    border-radius: 50%;\n",
              "    cursor: pointer;\n",
              "    display: none;\n",
              "    fill: var(--fill-color);\n",
              "    height: 32px;\n",
              "    padding: 0;\n",
              "    width: 32px;\n",
              "  }\n",
              "\n",
              "  .colab-df-quickchart:hover {\n",
              "    background-color: var(--hover-bg-color);\n",
              "    box-shadow: 0 1px 2px rgba(60, 64, 67, 0.3), 0 1px 3px 1px rgba(60, 64, 67, 0.15);\n",
              "    fill: var(--button-hover-fill-color);\n",
              "  }\n",
              "\n",
              "  .colab-df-quickchart-complete:disabled,\n",
              "  .colab-df-quickchart-complete:disabled:hover {\n",
              "    background-color: var(--disabled-bg-color);\n",
              "    fill: var(--disabled-fill-color);\n",
              "    box-shadow: none;\n",
              "  }\n",
              "\n",
              "  .colab-df-spinner {\n",
              "    border: 2px solid var(--fill-color);\n",
              "    border-color: transparent;\n",
              "    border-bottom-color: var(--fill-color);\n",
              "    animation:\n",
              "      spin 1s steps(1) infinite;\n",
              "  }\n",
              "\n",
              "  @keyframes spin {\n",
              "    0% {\n",
              "      border-color: transparent;\n",
              "      border-bottom-color: var(--fill-color);\n",
              "      border-left-color: var(--fill-color);\n",
              "    }\n",
              "    20% {\n",
              "      border-color: transparent;\n",
              "      border-left-color: var(--fill-color);\n",
              "      border-top-color: var(--fill-color);\n",
              "    }\n",
              "    30% {\n",
              "      border-color: transparent;\n",
              "      border-left-color: var(--fill-color);\n",
              "      border-top-color: var(--fill-color);\n",
              "      border-right-color: var(--fill-color);\n",
              "    }\n",
              "    40% {\n",
              "      border-color: transparent;\n",
              "      border-right-color: var(--fill-color);\n",
              "      border-top-color: var(--fill-color);\n",
              "    }\n",
              "    60% {\n",
              "      border-color: transparent;\n",
              "      border-right-color: var(--fill-color);\n",
              "    }\n",
              "    80% {\n",
              "      border-color: transparent;\n",
              "      border-right-color: var(--fill-color);\n",
              "      border-bottom-color: var(--fill-color);\n",
              "    }\n",
              "    90% {\n",
              "      border-color: transparent;\n",
              "      border-bottom-color: var(--fill-color);\n",
              "    }\n",
              "  }\n",
              "</style>\n",
              "\n",
              "  <script>\n",
              "    async function quickchart(key) {\n",
              "      const quickchartButtonEl =\n",
              "        document.querySelector('#' + key + ' button');\n",
              "      quickchartButtonEl.disabled = true;  // To prevent multiple clicks.\n",
              "      quickchartButtonEl.classList.add('colab-df-spinner');\n",
              "      try {\n",
              "        const charts = await google.colab.kernel.invokeFunction(\n",
              "            'suggestCharts', [key], {});\n",
              "      } catch (error) {\n",
              "        console.error('Error during call to suggestCharts:', error);\n",
              "      }\n",
              "      quickchartButtonEl.classList.remove('colab-df-spinner');\n",
              "      quickchartButtonEl.classList.add('colab-df-quickchart-complete');\n",
              "    }\n",
              "    (() => {\n",
              "      let quickchartButtonEl =\n",
              "        document.querySelector('#df-a527a2c7-4305-4983-810e-782bccc97a48 button');\n",
              "      quickchartButtonEl.style.display =\n",
              "        google.colab.kernel.accessAllowed ? 'block' : 'none';\n",
              "    })();\n",
              "  </script>\n",
              "</div>\n",
              "    </div>\n",
              "  </div>\n"
            ]
          },
          "metadata": {},
          "execution_count": 49
        }
      ]
    },
    {
      "cell_type": "code",
      "source": [
        "# Loading the dataset with specified column names\n",
        "df = pd.read_csv(\"criticas_pelis.csv\", names=[\"Row\", \"File\", \"Text\", \"Rating\"])\n",
        "\n",
        "# Removing the columns \"Row\" and \"File\"\n",
        "df = df.drop(['Row', 'File'], axis=1)\n",
        "\n",
        "# Preliminary data analysis\n",
        "print(df.head())\n",
        "print(df.describe())\n",
        "\n",
        "# Filtering neutral reviews and converting ratings to binary labels\n",
        "df_filtered = df[df['Rating'] != 3].copy()  # Использование .copy() для избежания предупреждения\n",
        "df_filtered['Label'] = df_filtered['Rating'].apply(lambda x: 1 if x > 3 else 0)\n",
        "\n",
        "# Checking the distribution of labels after transformation\n",
        "print(df_filtered['Label'].value_counts())\n",
        "print(df_filtered.head())"
      ],
      "metadata": {
        "colab": {
          "base_uri": "https://localhost:8080/"
        },
        "id": "1u91RGoeBebl",
        "outputId": "03bfdde1-caed-42b5-ec42-db71d0ba7031"
      },
      "execution_count": 52,
      "outputs": [
        {
          "output_type": "stream",
          "name": "stdout",
          "text": [
            "                                                Text  Rating\n",
            "0   May, ¿quieres ser mi amigo? May, ¿Quieres ser...       4\n",
            "1   Cómo ponerse en la piel de un kamikaze Es tod...       4\n",
            "2   Deliciosa comedieta dramática, con tintes rev...       4\n",
            "3   La ironía es el arma de los perdedores y este...       3\n",
            "4   Al final, y teniendo en cuenta que esto es el...       3\n",
            "            Rating\n",
            "count  3878.000000\n",
            "mean      3.048221\n",
            "std       1.141519\n",
            "min       1.000000\n",
            "25%       2.000000\n",
            "50%       3.000000\n",
            "75%       4.000000\n",
            "max       5.000000\n",
            "1    1351\n",
            "0    1274\n",
            "Name: Label, dtype: int64\n",
            "                                                Text  Rating  Label\n",
            "0   May, ¿quieres ser mi amigo? May, ¿Quieres ser...       4      1\n",
            "1   Cómo ponerse en la piel de un kamikaze Es tod...       4      1\n",
            "2   Deliciosa comedieta dramática, con tintes rev...       4      1\n",
            "5   Durante buena parte del metraje y solo pude r...       1      0\n",
            "8   Sus defectos quedan olvidados gracias a las i...       4      1\n"
          ]
        }
      ]
    },
    {
      "cell_type": "markdown",
      "source": [
        "### Prepare the Trainer from the previous trained model"
      ],
      "metadata": {
        "id": "LGA2viuyiAB1"
      }
    },
    {
      "cell_type": "code",
      "source": [
        "from sklearn.model_selection import train_test_split\n",
        "\n",
        "# Splitting the data into training and validation sets\n",
        "train_texts, val_texts, train_labels, val_labels = train_test_split(\n",
        "    df_filtered['Text'], df_filtered['Label'],\n",
        "    test_size=0.1,  # 10% данных для валидации\n",
        "    random_state=42  # Задаем seed для воспроизводимости\n",
        ")"
      ],
      "metadata": {
        "id": "0OI52ef6LZN5"
      },
      "execution_count": 68,
      "outputs": []
    },
    {
      "cell_type": "code",
      "source": [
        "# Tokenization of the training dataset\n",
        "train_encodings = tokenizer(train_texts.tolist(), truncation=True, padding=True, max_length=512)\n",
        "\n",
        "# Tokenization of the validation dataset\n",
        "val_encodings = tokenizer(val_texts.tolist(), truncation=True, padding=True, max_length=512)"
      ],
      "metadata": {
        "id": "bECHjxudMKoD"
      },
      "execution_count": 69,
      "outputs": []
    },
    {
      "cell_type": "code",
      "source": [
        "# Создание датасетов для тренировки и валидации\n",
        "class CriticasPelisDataset(Dataset):\n",
        "    def __init__(self, encodings, labels):\n",
        "        self.encodings = encodings\n",
        "        self.labels = labels\n",
        "\n",
        "    def __getitem__(self, idx):\n",
        "        item = {key: torch.tensor(val[idx]) for key, val in self.encodings.items()}\n",
        "        item['labels'] = torch.tensor(self.labels[idx])\n",
        "        return item\n",
        "\n",
        "    def __len__(self):\n",
        "        return len(self.labels)"
      ],
      "metadata": {
        "id": "YBlITzhJMKqh"
      },
      "execution_count": 70,
      "outputs": []
    },
    {
      "cell_type": "code",
      "source": [
        "train_dataset = CriticasPelisDataset(train_encodings, train_labels.tolist())\n",
        "val_dataset = CriticasPelisDataset(val_encodings, val_labels.tolist())"
      ],
      "metadata": {
        "id": "2OpWJd64MKxb"
      },
      "execution_count": 71,
      "outputs": []
    },
    {
      "cell_type": "code",
      "source": [
        "from sklearn.metrics import precision_recall_fscore_support, accuracy_score\n",
        "\n",
        "def compute_metrics(pred):\n",
        "    labels = pred.label_ids\n",
        "    preds = pred.predictions.argmax(-1)\n",
        "    precision, recall, f1, _ = precision_recall_fscore_support(labels, preds, average='binary')\n",
        "    acc = accuracy_score(labels, preds)\n",
        "    return {\n",
        "        'accuracy': acc,\n",
        "        'f1': f1,\n",
        "        'precision': precision,\n",
        "        'recall': recall\n",
        "    }"
      ],
      "metadata": {
        "id": "dNPV-sIHMK2P"
      },
      "execution_count": 76,
      "outputs": []
    },
    {
      "cell_type": "code",
      "source": [
        "training_args = TrainingArguments(\n",
        "    output_dir='./results',          # Folder to save results\n",
        "    num_train_epochs=10,              # Number of training epochs\n",
        "    per_device_train_batch_size=48,   # Batch size for training\n",
        "    per_device_eval_batch_size=48,    # Batch size for evaluation\n",
        "    warmup_steps=500,                 # Number of warm-up steps\n",
        "    weight_decay=0.01,                # Weight decay coefficient\n",
        "    evaluation_strategy=\"epoch\",      # Evaluation strategy\n",
        "    save_strategy=\"epoch\",            # Saving strategy for the model\n",
        "    logging_dir='./logs',             # Folder for logs\n",
        "    logging_steps=10,\n",
        "    load_best_model_at_end=True,      # Load the best model at the end of training\n",
        "    metric_for_best_model=\"f1\",       # Metric for determining the best model\n",
        "    greater_is_better=True            # Indicates that larger metric values are better\n",
        ")\n",
        "#metric_for_best_model=\"accuracy\" # Metric for selecting the best model\n"
      ],
      "metadata": {
        "id": "ZKTogvbmLZQz"
      },
      "execution_count": 83,
      "outputs": []
    },
    {
      "cell_type": "code",
      "source": [
        "trainer = Trainer(\n",
        "    model=model,\n",
        "    args=training_args,\n",
        "    compute_metrics=compute_metrics,\n",
        "    train_dataset=train_dataset,\n",
        "    eval_dataset=val_dataset  # Используем валидационный набор данных\n",
        ")"
      ],
      "metadata": {
        "id": "zxPPl7I5LZT4"
      },
      "execution_count": 84,
      "outputs": []
    },
    {
      "cell_type": "code",
      "source": [
        "trainer.train()"
      ],
      "metadata": {
        "colab": {
          "base_uri": "https://localhost:8080/",
          "height": 441
        },
        "id": "R7zxI5DzBenh",
        "outputId": "1539c39e-2ff5-4f02-c18e-1cfafc10add8"
      },
      "execution_count": 85,
      "outputs": [
        {
          "output_type": "display_data",
          "data": {
            "text/plain": [
              "<IPython.core.display.HTML object>"
            ],
            "text/html": [
              "\n",
              "    <div>\n",
              "      \n",
              "      <progress value='500' max='500' style='width:300px; height:20px; vertical-align: middle;'></progress>\n",
              "      [500/500 10:27, Epoch 10/10]\n",
              "    </div>\n",
              "    <table border=\"1\" class=\"dataframe\">\n",
              "  <thead>\n",
              " <tr style=\"text-align: left;\">\n",
              "      <th>Epoch</th>\n",
              "      <th>Training Loss</th>\n",
              "      <th>Validation Loss</th>\n",
              "      <th>Accuracy</th>\n",
              "      <th>F1</th>\n",
              "      <th>Precision</th>\n",
              "      <th>Recall</th>\n",
              "    </tr>\n",
              "  </thead>\n",
              "  <tbody>\n",
              "    <tr>\n",
              "      <td>1</td>\n",
              "      <td>0.001400</td>\n",
              "      <td>0.380107</td>\n",
              "      <td>0.923954</td>\n",
              "      <td>0.925926</td>\n",
              "      <td>0.892857</td>\n",
              "      <td>0.961538</td>\n",
              "    </tr>\n",
              "    <tr>\n",
              "      <td>2</td>\n",
              "      <td>0.004800</td>\n",
              "      <td>0.447976</td>\n",
              "      <td>0.923954</td>\n",
              "      <td>0.925373</td>\n",
              "      <td>0.898551</td>\n",
              "      <td>0.953846</td>\n",
              "    </tr>\n",
              "    <tr>\n",
              "      <td>3</td>\n",
              "      <td>0.012300</td>\n",
              "      <td>0.559094</td>\n",
              "      <td>0.916350</td>\n",
              "      <td>0.917910</td>\n",
              "      <td>0.891304</td>\n",
              "      <td>0.946154</td>\n",
              "    </tr>\n",
              "    <tr>\n",
              "      <td>4</td>\n",
              "      <td>0.000200</td>\n",
              "      <td>0.564360</td>\n",
              "      <td>0.916350</td>\n",
              "      <td>0.918519</td>\n",
              "      <td>0.885714</td>\n",
              "      <td>0.953846</td>\n",
              "    </tr>\n",
              "    <tr>\n",
              "      <td>5</td>\n",
              "      <td>0.000300</td>\n",
              "      <td>0.566810</td>\n",
              "      <td>0.920152</td>\n",
              "      <td>0.923077</td>\n",
              "      <td>0.881119</td>\n",
              "      <td>0.969231</td>\n",
              "    </tr>\n",
              "    <tr>\n",
              "      <td>6</td>\n",
              "      <td>0.135400</td>\n",
              "      <td>0.284045</td>\n",
              "      <td>0.923954</td>\n",
              "      <td>0.921875</td>\n",
              "      <td>0.936508</td>\n",
              "      <td>0.907692</td>\n",
              "    </tr>\n",
              "    <tr>\n",
              "      <td>7</td>\n",
              "      <td>0.141600</td>\n",
              "      <td>0.236732</td>\n",
              "      <td>0.931559</td>\n",
              "      <td>0.929687</td>\n",
              "      <td>0.944444</td>\n",
              "      <td>0.915385</td>\n",
              "    </tr>\n",
              "    <tr>\n",
              "      <td>8</td>\n",
              "      <td>0.030600</td>\n",
              "      <td>0.449992</td>\n",
              "      <td>0.923954</td>\n",
              "      <td>0.927536</td>\n",
              "      <td>0.876712</td>\n",
              "      <td>0.984615</td>\n",
              "    </tr>\n",
              "    <tr>\n",
              "      <td>9</td>\n",
              "      <td>0.056700</td>\n",
              "      <td>0.451270</td>\n",
              "      <td>0.923954</td>\n",
              "      <td>0.921875</td>\n",
              "      <td>0.936508</td>\n",
              "      <td>0.907692</td>\n",
              "    </tr>\n",
              "    <tr>\n",
              "      <td>10</td>\n",
              "      <td>0.089800</td>\n",
              "      <td>0.390966</td>\n",
              "      <td>0.939163</td>\n",
              "      <td>0.939850</td>\n",
              "      <td>0.919118</td>\n",
              "      <td>0.961538</td>\n",
              "    </tr>\n",
              "  </tbody>\n",
              "</table><p>"
            ]
          },
          "metadata": {}
        },
        {
          "output_type": "execute_result",
          "data": {
            "text/plain": [
              "TrainOutput(global_step=500, training_loss=0.04847958060866222, metrics={'train_runtime': 628.7316, 'train_samples_per_second': 37.568, 'train_steps_per_second': 0.795, 'total_flos': 6214683127603200.0, 'train_loss': 0.04847958060866222, 'epoch': 10.0})"
            ]
          },
          "metadata": {},
          "execution_count": 85
        }
      ]
    },
    {
      "cell_type": "markdown",
      "source": [
        "### Evaluate the model with the test dataset (Spanish)"
      ],
      "metadata": {
        "id": "Xc4U0IRviFbr"
      }
    },
    {
      "cell_type": "code",
      "source": [
        "# Model evaluation on the validation dataset\n",
        "eval_results = trainer.evaluate(val_dataset)"
      ],
      "metadata": {
        "colab": {
          "base_uri": "https://localhost:8080/",
          "height": 37
        },
        "id": "kHxt6aDdMoU-",
        "outputId": "69f2568d-f63d-4be7-81bc-85d82280a9cb"
      },
      "execution_count": 110,
      "outputs": [
        {
          "output_type": "display_data",
          "data": {
            "text/plain": [
              "<IPython.core.display.HTML object>"
            ],
            "text/html": [
              "\n",
              "    <div>\n",
              "      \n",
              "      <progress value='6' max='6' style='width:300px; height:20px; vertical-align: middle;'></progress>\n",
              "      [6/6 00:01]\n",
              "    </div>\n",
              "    "
            ]
          },
          "metadata": {}
        }
      ]
    },
    {
      "cell_type": "code",
      "source": [
        "# Outputting evaluation results\n",
        "print(eval_results)"
      ],
      "metadata": {
        "colab": {
          "base_uri": "https://localhost:8080/"
        },
        "id": "VrsVuNx1AXnt",
        "outputId": "b991228f-814d-4376-ce6b-93e04418bec5"
      },
      "execution_count": 111,
      "outputs": [
        {
          "output_type": "stream",
          "name": "stdout",
          "text": [
            "{'eval_loss': 0.39096590876579285, 'eval_accuracy': 0.9391634980988594, 'eval_f1': 0.9398496240601504, 'eval_precision': 0.9191176470588235, 'eval_recall': 0.9615384615384616, 'eval_runtime': 1.8782, 'eval_samples_per_second': 140.028, 'eval_steps_per_second': 3.195, 'epoch': 10.0}\n"
          ]
        }
      ]
    },
    {
      "cell_type": "code",
      "source": [
        "model.save_pretrained('./fine_tuned_model')\n",
        "tokenizer.save_pretrained('./fine_tuned_model')\n"
      ],
      "metadata": {
        "colab": {
          "base_uri": "https://localhost:8080/"
        },
        "id": "jQw0v-nqM69-",
        "outputId": "7c955ae8-ccf2-49c4-bb17-1ccffb54319f"
      },
      "execution_count": 88,
      "outputs": [
        {
          "output_type": "execute_result",
          "data": {
            "text/plain": [
              "('./fine_tuned_model/tokenizer_config.json',\n",
              " './fine_tuned_model/special_tokens_map.json',\n",
              " './fine_tuned_model/sentencepiece.bpe.model',\n",
              " './fine_tuned_model/added_tokens.json',\n",
              " './fine_tuned_model/tokenizer.json')"
            ]
          },
          "metadata": {},
          "execution_count": 88
        }
      ]
    },
    {
      "cell_type": "code",
      "source": [
        "# Getting predictions on the validation dataset\n",
        "predictions = trainer.predict(val_dataset)\n",
        "preds = np.argmax(predictions.predictions, axis=1)\n"
      ],
      "metadata": {
        "colab": {
          "base_uri": "https://localhost:8080/",
          "height": 17
        },
        "id": "y1QEP7hpdaeM",
        "outputId": "e96df438-cde3-4f9e-9d08-ddd37e4821f7"
      },
      "execution_count": 113,
      "outputs": [
        {
          "output_type": "display_data",
          "data": {
            "text/plain": [
              "<IPython.core.display.HTML object>"
            ],
            "text/html": []
          },
          "metadata": {}
        }
      ]
    },
    {
      "cell_type": "code",
      "source": [
        "# True labels from the validation dataset\n",
        "true_labels = val_labels.tolist()\n",
        "\n",
        "# Comparing predictions with true labels for the first 10 positions\n",
        "for i in range(min(10, len(true_labels))):  # Используем min() для обработки случаев, когда длина меньше 10\n",
        "    print(f\"True Label : {true_labels[i]}, Prediction: {preds[i]}\")\n"
      ],
      "metadata": {
        "colab": {
          "base_uri": "https://localhost:8080/"
        },
        "id": "1h7_HECndag2",
        "outputId": "67e6ab30-d5a3-4cbd-eed4-1ce829a9dfe6"
      },
      "execution_count": 122,
      "outputs": [
        {
          "output_type": "stream",
          "name": "stdout",
          "text": [
            "True Label : 1, Prediction: 1\n",
            "True Label : 0, Prediction: 0\n",
            "True Label : 0, Prediction: 0\n",
            "True Label : 1, Prediction: 1\n",
            "True Label : 1, Prediction: 1\n",
            "True Label : 1, Prediction: 1\n",
            "True Label : 1, Prediction: 1\n",
            "True Label : 0, Prediction: 0\n",
            "True Label : 0, Prediction: 0\n",
            "True Label : 0, Prediction: 0\n"
          ]
        }
      ]
    },
    {
      "cell_type": "code",
      "source": [
        "# Построение матрицы ошибок\n",
        "cm = confusion_matrix(true_labels, preds)\n",
        "\n",
        "# Визуализация матрицы ошибок\n",
        "sns.heatmap(cm, annot=True, fmt=\"d\", cmap='Blues', xticklabels=['Negative', 'Positive'], yticklabels=['Negative', 'Positive'])\n",
        "plt.ylabel('True Labels')\n",
        "plt.xlabel('Predicted Labels')\n",
        "plt.title('Confusion Matrix for criticas_pelis.csv')\n",
        "plt.show()\n"
      ],
      "metadata": {
        "colab": {
          "base_uri": "https://localhost:8080/",
          "height": 472
        },
        "id": "CeLDK19adaj2",
        "outputId": "a62ca1ba-5ea9-42dc-d68b-dde51d17f5dc"
      },
      "execution_count": 123,
      "outputs": [
        {
          "output_type": "display_data",
          "data": {
            "text/plain": [
              "<Figure size 640x480 with 2 Axes>"
            ],
            "image/png": "[encoded data removed]"
          },
          "metadata": {}
        }
      ]
    },
    {
      "cell_type": "code",
      "source": [
        "# Расчет правильных и неправильных предсказаний\n",
        "correct_predictions = np.sum(true_labels == preds)\n",
        "incorrect_predictions = np.sum(true_labels != preds)\n",
        "total_predictions = len(true_labels)\n",
        "\n",
        "# Вывод результатов\n",
        "print(f\"Correct Predictions: {correct_predictions}\")\n",
        "print(f\"Incorrect Predictions: {incorrect_predictions}\")\n",
        "print(f\"Total Predictions: {total_predictions}\")\n"
      ],
      "metadata": {
        "colab": {
          "base_uri": "https://localhost:8080/"
        },
        "id": "GJEMPeqIbZQS",
        "outputId": "e62a55c8-7d59-4d75-8990-563a4fbcfe2e"
      },
      "execution_count": 124,
      "outputs": [
        {
          "output_type": "stream",
          "name": "stdout",
          "text": [
            "Correct Predictions: 247\n",
            "Incorrect Predictions: 16\n",
            "Total Predictions: 263\n"
          ]
        }
      ]
    },
    {
      "cell_type": "markdown",
      "source": [
        "### Evaluate again the model on the English test dataset"
      ],
      "metadata": {
        "id": "zS3MH5h0iJVN"
      }
    },
    {
      "cell_type": "code",
      "source": [
        "# Загрузка тестового набора данных\n",
        "test_df = pd.read_parquet(\"imdb_test.parquet\")\n",
        "\n",
        "# Вывод первых нескольких строк для проверки\n",
        "print(test_df.head())\n",
        "\n",
        "# Вывод распределения меток в тестовом наборе данных\n",
        "print(test_df['label'].value_counts())\n",
        "\n",
        "# Токенизация тестового набора данных\n",
        "test_encodings = tokenizer(test_df['text'].tolist(), truncation=True, padding=True, max_length=512, return_tensors=\"pt\")"
      ],
      "metadata": {
        "colab": {
          "base_uri": "https://localhost:8080/"
        },
        "id": "j8IEwJkjMoYC",
        "outputId": "f385bc81-809e-401a-83d8-30b28204bef7"
      },
      "execution_count": 89,
      "outputs": [
        {
          "output_type": "stream",
          "name": "stdout",
          "text": [
            "                                                text  label\n",
            "0  I love sci-fi and am willing to put up with a ...      0\n",
            "1  Worth the entertainment value of a rental, esp...      0\n",
            "2  its a totally average film with a few semi-alr...      0\n",
            "3  STAR RATING: ***** Saturday Night **** Friday ...      0\n",
            "4  First off let me say, If you haven't enjoyed a...      0\n",
            "0    12500\n",
            "1    12500\n",
            "Name: label, dtype: int64\n"
          ]
        }
      ]
    },
    {
      "cell_type": "code",
      "source": [
        "class IMDbDataset(Dataset):\n",
        "    def __init__(self, encodings, labels):\n",
        "        self.encodings = encodings\n",
        "        self.labels = labels\n",
        "\n",
        "    def __getitem__(self, idx):\n",
        "        item = {key: self.encodings[key][idx] for key in self.encodings}\n",
        "        item['labels'] = torch.tensor(self.labels[idx])\n",
        "        return item\n",
        "\n",
        "    def __len__(self):\n",
        "        return len(self.labels)\n",
        "\n",
        "test_dataset = IMDbDataset(test_encodings, test_df['label'].tolist())\n",
        "\n",
        "# Вывод размера тестового набора данных\n",
        "print(\"Size of the test dataset:\", len(test_dataset))"
      ],
      "metadata": {
        "colab": {
          "base_uri": "https://localhost:8080/"
        },
        "id": "8bd3eZuOYMNH",
        "outputId": "1a9d4f3a-ee2e-4c22-90fb-8d9eb6375aca"
      },
      "execution_count": 125,
      "outputs": [
        {
          "output_type": "stream",
          "name": "stdout",
          "text": [
            "Size of the test dataset: 25000\n"
          ]
        }
      ]
    },
    {
      "cell_type": "code",
      "source": [
        "# Оценка модели на тестовом наборе данных\n",
        "eval_results = trainer.evaluate(test_dataset)\n",
        "\n",
        "# Вывод результатов оценки\n",
        "print(\"Evaluation results on the test dataset:\")\n",
        "print(eval_results)\n"
      ],
      "metadata": {
        "colab": {
          "base_uri": "https://localhost:8080/",
          "height": 92
        },
        "id": "51mQ_21aYMP8",
        "outputId": "b53f64e4-b22d-4826-9fb5-011834cdf221"
      },
      "execution_count": 126,
      "outputs": [
        {
          "output_type": "display_data",
          "data": {
            "text/plain": [
              "<IPython.core.display.HTML object>"
            ],
            "text/html": [
              "\n",
              "    <div>\n",
              "      \n",
              "      <progress value='521' max='521' style='width:300px; height:20px; vertical-align: middle;'></progress>\n",
              "      [521/521 02:48]\n",
              "    </div>\n",
              "    "
            ]
          },
          "metadata": {}
        },
        {
          "output_type": "stream",
          "name": "stdout",
          "text": [
            "Evaluation results on the test dataset:\n",
            "{'eval_loss': 0.4491254389286041, 'eval_accuracy': 0.92768, 'eval_f1': 0.9268134715025907, 'eval_precision': 0.9380530973451328, 'eval_recall': 0.91584, 'eval_runtime': 168.7039, 'eval_samples_per_second': 148.189, 'eval_steps_per_second': 3.088, 'epoch': 10.0}\n"
          ]
        }
      ]
    },
    {
      "cell_type": "code",
      "source": [
        "# Получение предсказаний модели\n",
        "import numpy as np\n",
        "predictions = trainer.predict(test_dataset)\n",
        "preds = np.argmax(predictions.predictions, axis=-1)\n"
      ],
      "metadata": {
        "colab": {
          "base_uri": "https://localhost:8080/",
          "height": 17
        },
        "id": "nCrPL5k3YMTp",
        "outputId": "e23dd0a3-d7fa-4475-82de-1de4cc657965"
      },
      "execution_count": 93,
      "outputs": [
        {
          "output_type": "display_data",
          "data": {
            "text/plain": [
              "<IPython.core.display.HTML object>"
            ],
            "text/html": []
          },
          "metadata": {}
        }
      ]
    },
    {
      "cell_type": "code",
      "source": [
        "# Истинные метки\n",
        "true_labels = predictions.label_ids\n",
        "\n",
        "# Вывод первых нескольких предсказаний и истинных меток\n",
        "for i in range(10):\n",
        "    print(f\"Text: {test_df['text'].iloc[i][:50]}... \\nTrue label: {true_labels[i]}, Predictions: {preds[i]}\\n\")\n"
      ],
      "metadata": {
        "colab": {
          "base_uri": "https://localhost:8080/"
        },
        "id": "Sc28S0vtMobx",
        "outputId": "82b4dc0d-8ffc-445b-c2fe-3d87fceab2ff"
      },
      "execution_count": 127,
      "outputs": [
        {
          "output_type": "stream",
          "name": "stdout",
          "text": [
            "Text: I love sci-fi and am willing to put up with a lot.... \n",
            "True label: 1, Predictions: 1\n",
            "\n",
            "Text: Worth the entertainment value of a rental, especia... \n",
            "True label: 0, Predictions: 0\n",
            "\n",
            "Text: its a totally average film with a few semi-alright... \n",
            "True label: 0, Predictions: 0\n",
            "\n",
            "Text: STAR RATING: ***** Saturday Night **** Friday Nigh... \n",
            "True label: 1, Predictions: 1\n",
            "\n",
            "Text: First off let me say, If you haven't enjoyed a Van... \n",
            "True label: 1, Predictions: 1\n",
            "\n",
            "Text: I had high hopes for this one until they changed t... \n",
            "True label: 1, Predictions: 1\n",
            "\n",
            "Text: Isaac Florentine has made some of the best western... \n",
            "True label: 1, Predictions: 1\n",
            "\n",
            "Text: It actually pains me to say it, but this movie was... \n",
            "True label: 0, Predictions: 0\n",
            "\n",
            "Text: Technically I'am a Van Damme Fan, or I was. this m... \n",
            "True label: 0, Predictions: 0\n",
            "\n",
            "Text: Honestly awful film, bad editing, awful lighting, ... \n",
            "True label: 0, Predictions: 0\n",
            "\n"
          ]
        }
      ]
    },
    {
      "cell_type": "code",
      "source": [
        "# Calculation of correct and incorrect predictions\n",
        "correct_predictions = np.sum(true_labels == preds)\n",
        "incorrect_predictions = np.sum(true_labels != preds)\n",
        "total_predictions = len(true_labels)\n",
        "\n",
        "# Calculation of correct and incorrect predictions\n",
        "correct_percentage = (correct_predictions / total_predictions) * 100\n",
        "incorrect_percentage = (incorrect_predictions / total_predictions) * 100\n",
        "\n",
        "# Output of results\n",
        "print(f\"Correct predictions: {correct_predictions}/{total_predictions} ({correct_percentage:.2f}%)\")\n",
        "print(f\"Incorrect predictions: {incorrect_predictions}/{total_predictions} ({incorrect_percentage:.2f}%)\")"
      ],
      "metadata": {
        "colab": {
          "base_uri": "https://localhost:8080/"
        },
        "id": "kkuTcG74acRS",
        "outputId": "743e4b58-9ac3-4bba-bfd0-74e33dc9d156"
      },
      "execution_count": 128,
      "outputs": [
        {
          "output_type": "stream",
          "name": "stdout",
          "text": [
            "Correct predictions: 247/263 (93.92%)\n",
            "Incorrect predictions: 16/263 (6.08%)\n"
          ]
        }
      ]
    },
    {
      "cell_type": "code",
      "source": [
        "from sklearn.metrics import confusion_matrix\n",
        "import seaborn as sns\n",
        "import matplotlib.pyplot as plt\n",
        "\n",
        "# Построение матрицы ошибок\n",
        "cm = confusion_matrix(true_labels, preds)\n",
        "\n",
        "# Визуализация матрицы ошибок\n",
        "sns.heatmap(cm, annot=True, fmt=\"d\", cmap='Blues', xticklabels=['Negative', 'Positive'], yticklabels=['Negative', 'Positive'])\n",
        "plt.ylabel('True labels')\n",
        "plt.xlabel('Predicted labels')\n",
        "plt.title('Confusion Matrix')\n",
        "plt.show()"
      ],
      "metadata": {
        "colab": {
          "base_uri": "https://localhost:8080/",
          "height": 472
        },
        "id": "UUKfsLJwZiRh",
        "outputId": "7dcb6fe5-2cde-4e68-a733-3a1e1b501824"
      },
      "execution_count": 129,
      "outputs": [
        {
          "output_type": "display_data",
          "data": {
            "text/plain": [
              "<Figure size 640x480 with 2 Axes>"
            ],
            "image/png": "[encoded data removed]"
          },
          "metadata": {}
        }
      ]
    }
  ]
}